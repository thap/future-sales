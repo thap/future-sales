{
 "cells": [
  {
   "cell_type": "markdown",
   "metadata": {},
   "source": [
    "This notebook is advanced version of the [Feature engineering, xgboost](https://www.kaggle.com/dlarionov/feature-engineering-xgboost). <br>\n",
    "We descrive our contribution below pipline \n",
    "\n",
    "#### Pipline\n",
    "* load data\n",
    "* heal data and remove outliers\n",
    "* ## (Update) add extra features using shops/items/cats features\n",
    "* ## (Update) categorize shops/items/cats objects and features\n",
    "* create matrix as product of item/shop pairs within each month in the train set\n",
    "* get monthly sales for each item/shop pair in the train set and merge it to the matrix\n",
    "* clip item_cnt_month by (0,20)\n",
    "* append test to the matrix, fill 34 month nans with zeros\n",
    "* merge shops/items/cats to the matrix\n",
    "* add target lag features\n",
    "* add mean encoded features\n",
    "* add price trend features\n",
    "* add month & days\n",
    "* add months since last sale/months since first sale features\n",
    "* cut first year and drop columns which can not be calculated for the test set\n",
    "* ## (Update) select best features\n",
    "* set validation strategy 34 test, 33 validation, less than 33 train\n",
    "* ##  (Update) fine tuning XGB model and training with GPU\n",
    "* fit the model, predict and clip targets for the test set"
   ]
  },
  {
   "cell_type": "code",
   "execution_count": 4,
   "metadata": {
    "_cell_guid": "b1076dfc-b9ad-4769-8c92-a6c4dae69d19",
    "_uuid": "8f2839f25d086af736a60e9eeb907d3b93b6e0e5"
   },
   "outputs": [
    {
     "data": {
      "text/plain": [
       "sys.version_info(major=3, minor=7, micro=5, releaselevel='final', serial=0)"
      ]
     },
     "execution_count": 4,
     "metadata": {},
     "output_type": "execute_result"
    }
   ],
   "source": [
    "import numpy as np\n",
    "import pandas as pd\n",
    "pd.set_option('display.max_rows', 500)\n",
    "pd.set_option('display.max_columns', 100)\n",
    "\n",
    "from itertools import product\n",
    "from sklearn.preprocessing import LabelEncoder\n",
    "\n",
    "import seaborn as sns\n",
    "import matplotlib.pyplot as plt\n",
    "%matplotlib inline\n",
    "\n",
    "from xgboost import XGBRegressor\n",
    "from xgboost import plot_importance\n",
    "\n",
    "def plot_features(booster, figsize):    \n",
    "    fig, ax = plt.subplots(1,1,figsize=figsize)\n",
    "    return plot_importance(booster=booster, ax=ax)\n",
    "\n",
    "import time\n",
    "import sys\n",
    "import gc\n",
    "import pickle\n",
    "sys.version_info"
   ]
  },
  {
   "cell_type": "code",
   "execution_count": 5,
   "metadata": {
    "_cell_guid": "79c7e3d0-c299-4dcb-8224-4455121ee9b0",
    "_uuid": "d629ff2d2480ee46fbb7e2d37f6b5fab8052498a"
   },
   "outputs": [
    {
     "data": {
      "text/plain": [
       "['[XGB baseline] Advanced Feature Engineering.ipynb',\n",
       " 'sales_train.csv',\n",
       " 'Untitled.ipynb',\n",
       " 'shops.csv',\n",
       " 'test.csv',\n",
       " 'item_categories.csv',\n",
       " 'data.pkl',\n",
       " '.ipynb_checkpoints',\n",
       " 'items.csv',\n",
       " 'sample_submission.csv']"
      ]
     },
     "execution_count": 5,
     "metadata": {},
     "output_type": "execute_result"
    }
   ],
   "source": [
    "import os\n",
    "os.listdir()"
   ]
  },
  {
   "cell_type": "code",
   "execution_count": 6,
   "metadata": {},
   "outputs": [
    {
     "name": "stdout",
     "output_type": "stream",
     "text": [
      "------------- train info ------------\n",
      "<class 'pandas.core.frame.DataFrame'>\n",
      "RangeIndex: 2935849 entries, 0 to 2935848\n",
      "Data columns (total 6 columns):\n",
      "date              object\n",
      "date_block_num    int64\n",
      "shop_id           int64\n",
      "item_id           int64\n",
      "item_price        float64\n",
      "item_cnt_day      float64\n",
      "dtypes: float64(2), int64(3), object(1)\n",
      "memory usage: 134.4+ MB\n",
      "None \n",
      "\n",
      "------------- test info ------------\n",
      "<class 'pandas.core.frame.DataFrame'>\n",
      "Int64Index: 214200 entries, 0 to 214199\n",
      "Data columns (total 2 columns):\n",
      "shop_id    214200 non-null int64\n",
      "item_id    214200 non-null int64\n",
      "dtypes: int64(2)\n",
      "memory usage: 4.9 MB\n",
      "None \n",
      "\n",
      "------------- items info ------------\n",
      "<class 'pandas.core.frame.DataFrame'>\n",
      "RangeIndex: 22170 entries, 0 to 22169\n",
      "Data columns (total 3 columns):\n",
      "item_name           22170 non-null object\n",
      "item_id             22170 non-null int64\n",
      "item_category_id    22170 non-null int64\n",
      "dtypes: int64(2), object(1)\n",
      "memory usage: 519.7+ KB\n",
      "None \n",
      "\n",
      "------------- shops info ------------\n",
      "<class 'pandas.core.frame.DataFrame'>\n",
      "RangeIndex: 60 entries, 0 to 59\n",
      "Data columns (total 2 columns):\n",
      "shop_name    60 non-null object\n",
      "shop_id      60 non-null int64\n",
      "dtypes: int64(1), object(1)\n",
      "memory usage: 1.1+ KB\n",
      "None \n",
      "\n",
      "------------- categories info ------------\n",
      "<class 'pandas.core.frame.DataFrame'>\n",
      "RangeIndex: 84 entries, 0 to 83\n",
      "Data columns (total 2 columns):\n",
      "item_category_name    84 non-null object\n",
      "item_category_id      84 non-null int64\n",
      "dtypes: int64(1), object(1)\n",
      "memory usage: 1.4+ KB\n",
      "None \n",
      "\n"
     ]
    }
   ],
   "source": [
    "PATH = 'competitive-data-science-predict-future-sales'\n",
    "items = pd.read_csv('items.csv')\n",
    "shops = pd.read_csv('shops.csv')\n",
    "cats = pd.read_csv('item_categories.csv')\n",
    "train = pd.read_csv('sales_train.csv')\n",
    "# set index to ID to avoid droping it later\n",
    "test  = pd.read_csv('test.csv').set_index('ID')\n",
    "\n",
    "print('------------- train info ------------') ; print(train.info(), '\\n')\n",
    "print('------------- test info ------------') ; print(test.info(), '\\n')\n",
    "print('------------- items info ------------') ; print(items.info(), '\\n')\n",
    "print('------------- shops info ------------') ; print(shops.info(), '\\n')\n",
    "print('------------- categories info ------------') ; print(cats.info(), '\\n')"
   ]
  },
  {
   "cell_type": "markdown",
   "metadata": {},
   "source": [
    "## Drop Outliers\n",
    "check NaN values and below zero values <br>\n",
    "We drop outliers which price > 10^5 and sales > 1000"
   ]
  },
  {
   "cell_type": "code",
   "execution_count": 7,
   "metadata": {},
   "outputs": [
    {
     "name": "stdout",
     "output_type": "stream",
     "text": [
      "date              0\n",
      "date_block_num    0\n",
      "shop_id           0\n",
      "item_id           0\n",
      "item_price        0\n",
      "item_cnt_day      0\n",
      "dtype: int64 \n",
      "\n",
      "shop_id    0\n",
      "item_id    0\n",
      "dtype: int64\n"
     ]
    }
   ],
   "source": [
    "print(train.isna().sum(), '\\n')\n",
    "print(test.isna().sum())"
   ]
  },
  {
   "cell_type": "code",
   "execution_count": 8,
   "metadata": {},
   "outputs": [
    {
     "name": "stdout",
     "output_type": "stream",
     "text": [
      "2\n",
      "12\n",
      "2935837\n"
     ]
    },
    {
     "data": {
      "image/png": "[encoded data removed]",
      "text/plain": [
       "<Figure size 720x288 with 1 Axes>"
      ]
     },
     "metadata": {
      "needs_background": "light"
     },
     "output_type": "display_data"
    },
    {
     "data": {
      "image/png": "[encoded data removed]",
      "text/plain": [
       "<Figure size 720x288 with 1 Axes>"
      ]
     },
     "metadata": {
      "needs_background": "light"
     },
     "output_type": "display_data"
    }
   ],
   "source": [
    "plt.figure(figsize=(10,4))\n",
    "plt.xlim(-100, 3000)\n",
    "sns.boxplot(x=train.item_cnt_day)\n",
    "\n",
    "plt.figure(figsize=(10,4))\n",
    "plt.xlim(train.item_price.min(), train.item_price.max()*1.1)\n",
    "sns.boxplot(x=train.item_price)\n",
    "\n",
    "print(len(train[train.item_cnt_day>999]))\n",
    "print(len(train[train.item_cnt_day>500]))\n",
    "print(len(train[train.item_cnt_day<501]))\n",
    "\n",
    "train = train[train.item_price<100000]\n",
    "train = train[train.item_cnt_day<1000]"
   ]
  },
  {
   "cell_type": "code",
   "execution_count": 9,
   "metadata": {},
   "outputs": [
    {
     "data": {
      "text/plain": [
       "<matplotlib.axes._subplots.AxesSubplot at 0x1a1cd58b10>"
      ]
     },
     "execution_count": 9,
     "metadata": {},
     "output_type": "execute_result"
    },
    {
     "data": {
      "image/png": "[encoded data removed]",
      "text/plain": [
       "<Figure size 720x288 with 1 Axes>"
      ]
     },
     "metadata": {
      "needs_background": "light"
     },
     "output_type": "display_data"
    },
    {
     "data": {
      "image/png": "[encoded data removed]",
      "text/plain": [
       "<Figure size 720x288 with 1 Axes>"
      ]
     },
     "metadata": {
      "needs_background": "light"
     },
     "output_type": "display_data"
    }
   ],
   "source": [
    "plt.figure(figsize=(10,4))\n",
    "plt.xlim(-100, 1000)\n",
    "sns.boxplot(x=train.item_cnt_day)\n",
    "\n",
    "plt.figure(figsize=(10,4))\n",
    "plt.xlim(train.item_price.min(), train.item_price.max()*1.1)\n",
    "sns.boxplot(x=train.item_price)"
   ]
  },
  {
   "cell_type": "markdown",
   "metadata": {},
   "source": [
    "There is one item with price below zero. Eliminate outlier <br>\n",
    "\n",
    "Also, there are some negative values in item_cnt_day.<br>\n",
    "-1.0 : 7252 ,\n",
    "-2.0 : 78 ,\n",
    "-3.0 : 14 ,\n",
    "-4.0 : 3 ,\n",
    "-5.0 : 4 ,\n",
    "-6.0 : 2 ,\n",
    "-9.0 : 1 ,\n",
    "-16.0 : 1 ,\n",
    "-22.0 : 1 ,<br>\n",
    "We decide to change all of them to 0"
   ]
  },
  {
   "cell_type": "code",
   "execution_count": 10,
   "metadata": {},
   "outputs": [],
   "source": [
    "train = train[train.item_price > 0].reset_index(drop=True)\n",
    "train[train.item_cnt_day <= 0].item_cnt_day.unique()\n",
    "train.loc[train.item_cnt_day < 1, 'item_cnt_day'] = 0"
   ]
  },
  {
   "cell_type": "markdown",
   "metadata": {},
   "source": [
    "Several shops are duplicates of each other (according to its name). Fix train and test set.<br>\n",
    "We add 40 to 39."
   ]
  },
  {
   "cell_type": "code",
   "execution_count": 11,
   "metadata": {},
   "outputs": [],
   "source": [
    "# Якутск Орджоникидзе, 56\n",
    "train.loc[train.shop_id == 0, 'shop_id'] = 57\n",
    "test.loc[test.shop_id == 0, 'shop_id'] = 57\n",
    "# Якутск ТЦ \"Центральный\"\n",
    "train.loc[train.shop_id == 1, 'shop_id'] = 58\n",
    "test.loc[test.shop_id == 1, 'shop_id'] = 58\n",
    "# Жуковский ул. Чкалова 39м²\n",
    "train.loc[train.shop_id == 11, 'shop_id'] = 10\n",
    "test.loc[test.shop_id == 11, 'shop_id'] = 10\n",
    "\n",
    "train.loc[train.shop_id == 40, 'shop_id'] = 39\n",
    "test.loc[test.shop_id == 40, 'shop_id'] = 39"
   ]
  },
  {
   "cell_type": "markdown",
   "metadata": {},
   "source": [
    "## Shops dataset preprocessing"
   ]
  },
  {
   "cell_type": "code",
   "execution_count": 12,
   "metadata": {},
   "outputs": [
    {
     "data": {
      "text/plain": [
       "array(['!Якутск Орджоникидзе, 56 фран', '!Якутск ТЦ \"Центральный\" фран',\n",
       "       'Адыгея ТЦ \"Мега\"', 'Балашиха ТРК \"Октябрь-Киномир\"',\n",
       "       'Волжский ТЦ \"Волга Молл\"', 'Вологда ТРЦ \"Мармелад\"',\n",
       "       'Воронеж (Плехановская, 13)', 'Воронеж ТРЦ \"Максимир\"',\n",
       "       'Воронеж ТРЦ Сити-Парк \"Град\"', 'Выездная Торговля',\n",
       "       'Жуковский ул. Чкалова 39м?', 'Жуковский ул. Чкалова 39м²',\n",
       "       'Интернет-магазин ЧС', 'Казань ТЦ \"Бехетле\"',\n",
       "       'Казань ТЦ \"ПаркХаус\" II', 'Калуга ТРЦ \"XXI век\"',\n",
       "       'Коломна ТЦ \"Рио\"', 'Красноярск ТЦ \"Взлетка Плаза\"',\n",
       "       'Красноярск ТЦ \"Июнь\"', 'Курск ТЦ \"Пушкинский\"',\n",
       "       'Москва \"Распродажа\"', 'Москва МТРЦ \"Афи Молл\"',\n",
       "       'Москва Магазин С21', 'Москва ТК \"Буденовский\" (пав.А2)',\n",
       "       'Москва ТК \"Буденовский\" (пав.К7)', 'Москва ТРК \"Атриум\"',\n",
       "       'Москва ТЦ \"Ареал\" (Беляево)', 'Москва ТЦ \"МЕГА Белая Дача II\"',\n",
       "       'Москва ТЦ \"МЕГА Теплый Стан\" II',\n",
       "       'Москва ТЦ \"Новый век\" (Новокосино)', 'Москва ТЦ \"Перловский\"',\n",
       "       'Москва ТЦ \"Семеновский\"', 'Москва ТЦ \"Серебряный Дом\"',\n",
       "       'Мытищи ТРК \"XL-3\"', 'Н.Новгород ТРЦ \"РИО\"',\n",
       "       'Н.Новгород ТРЦ \"Фантастика\"',\n",
       "       'Новосибирск ТРЦ \"Галерея Новосибирск\"', 'Новосибирск ТЦ \"Мега\"',\n",
       "       'Омск ТЦ \"Мега\"', 'РостовНаДону ТРК \"Мегацентр Горизонт\"',\n",
       "       'РостовНаДону ТРК \"Мегацентр Горизонт\" Островной',\n",
       "       'РостовНаДону ТЦ \"Мега\"', 'СПб ТК \"Невский Центр\"',\n",
       "       'СПб ТК \"Сенная\"', 'Самара ТЦ \"Мелодия\"', 'Самара ТЦ \"ПаркХаус\"',\n",
       "       'Сергиев Посад ТЦ \"7Я\"', 'Сургут ТРЦ \"Сити Молл\"',\n",
       "       'Томск ТРЦ \"Изумрудный Город\"', 'Тюмень ТРЦ \"Кристалл\"',\n",
       "       'Тюмень ТЦ \"Гудвин\"', 'Тюмень ТЦ \"Зеленый Берег\"',\n",
       "       'Уфа ТК \"Центральный\"', 'Уфа ТЦ \"Семья\" 2', 'Химки ТЦ \"Мега\"',\n",
       "       'Цифровой склад 1С-Онлайн', 'Чехов ТРЦ \"Карнавал\"',\n",
       "       'Якутск Орджоникидзе, 56', 'Якутск ТЦ \"Центральный\"',\n",
       "       'Ярославль ТЦ \"Альтаир\"'], dtype=object)"
      ]
     },
     "execution_count": 12,
     "metadata": {},
     "output_type": "execute_result"
    }
   ],
   "source": [
    "shops.shop_name.unique()"
   ]
  },
  {
   "cell_type": "markdown",
   "metadata": {},
   "source": [
    "We categorize subtype of shops in ['Орджоникидзе,' 'ТЦ' 'ТРК' 'ТРЦ', 'ул.' 'Магазин' 'ТК' 'склад' ] <br>\n",
    "Then transform other values to 'etc'"
   ]
  },
  {
   "cell_type": "code",
   "execution_count": 13,
   "metadata": {},
   "outputs": [
    {
     "data": {
      "text/plain": [
       "array(['Орджоникидзе,', 'ТЦ', 'ТРК', 'ТРЦ', 'etc', 'ул.', 'Магазин', 'ТК',\n",
       "       'склад'], dtype=object)"
      ]
     },
     "execution_count": 13,
     "metadata": {},
     "output_type": "execute_result"
    }
   ],
   "source": [
    "shops.loc[shops.shop_name == 'Сергиев Посад ТЦ \"7Я\"', 'shop_name'] = 'СергиевПосад ТЦ \"7Я\"'\n",
    "\n",
    "shops['city'] = shops['shop_name'].str.split(' ').map(lambda x: x[0])\n",
    "shops['category'] = shops['shop_name'].str.split(' ').map(lambda x:x[1]).astype(str)\n",
    "\n",
    "shops.loc[shops.city == '!Якутск', 'city'] = 'Якутск'\n",
    "\n",
    "category = ['Орджоникидзе,', 'ТЦ', 'ТРК', 'ТРЦ','ул.', 'Магазин', 'ТК', 'склад']\n",
    "shops.category = shops.category.apply(lambda x: x if (x in category) else 'etc')\n",
    "shops.category.unique()"
   ]
  },
  {
   "cell_type": "code",
   "execution_count": 14,
   "metadata": {},
   "outputs": [
    {
     "data": {
      "text/html": [
       "<div>\n",
       "<style scoped>\n",
       "    .dataframe tbody tr th:only-of-type {\n",
       "        vertical-align: middle;\n",
       "    }\n",
       "\n",
       "    .dataframe tbody tr th {\n",
       "        vertical-align: top;\n",
       "    }\n",
       "\n",
       "    .dataframe thead th {\n",
       "        text-align: right;\n",
       "    }\n",
       "</style>\n",
       "<table border=\"1\" class=\"dataframe\">\n",
       "  <thead>\n",
       "    <tr style=\"text-align: right;\">\n",
       "      <th></th>\n",
       "      <th>shop_id</th>\n",
       "    </tr>\n",
       "    <tr>\n",
       "      <th>category</th>\n",
       "      <th></th>\n",
       "    </tr>\n",
       "  </thead>\n",
       "  <tbody>\n",
       "    <tr>\n",
       "      <th>etc</th>\n",
       "      <td>68</td>\n",
       "    </tr>\n",
       "    <tr>\n",
       "      <th>Магазин</th>\n",
       "      <td>22</td>\n",
       "    </tr>\n",
       "    <tr>\n",
       "      <th>Орджоникидзе,</th>\n",
       "      <td>57</td>\n",
       "    </tr>\n",
       "    <tr>\n",
       "      <th>ТК</th>\n",
       "      <td>184</td>\n",
       "    </tr>\n",
       "    <tr>\n",
       "      <th>ТРК</th>\n",
       "      <td>140</td>\n",
       "    </tr>\n",
       "    <tr>\n",
       "      <th>ТРЦ</th>\n",
       "      <td>340</td>\n",
       "    </tr>\n",
       "    <tr>\n",
       "      <th>ТЦ</th>\n",
       "      <td>883</td>\n",
       "    </tr>\n",
       "    <tr>\n",
       "      <th>склад</th>\n",
       "      <td>55</td>\n",
       "    </tr>\n",
       "    <tr>\n",
       "      <th>ул.</th>\n",
       "      <td>21</td>\n",
       "    </tr>\n",
       "  </tbody>\n",
       "</table>\n",
       "</div>"
      ],
      "text/plain": [
       "               shop_id\n",
       "category              \n",
       "etc                 68\n",
       "Магазин             22\n",
       "Орджоникидзе,       57\n",
       "ТК                 184\n",
       "ТРК                140\n",
       "ТРЦ                340\n",
       "ТЦ                 883\n",
       "склад               55\n",
       "ул.                 21"
      ]
     },
     "execution_count": 14,
     "metadata": {},
     "output_type": "execute_result"
    }
   ],
   "source": [
    "shops.groupby(['category']).sum()"
   ]
  },
  {
   "cell_type": "markdown",
   "metadata": {},
   "source": [
    "However, some categories have small values. So we reduce categories 9 to 5.<br>\n",
    "['Орджоникидзе,', 'ТЦ', 'ТРК', 'ТРЦ','ул.', 'Магазин', 'ТК', 'склад', 'etc'] => ['ТЦ', 'ТРК', 'ТРЦ', 'ТК', 'etc']**"
   ]
  },
  {
   "cell_type": "code",
   "execution_count": 15,
   "metadata": {},
   "outputs": [
    {
     "name": "stdout",
     "output_type": "stream",
     "text": [
      "Category Distribution           shop_id\n",
      "category         \n",
      "etc           223\n",
      "ТК            184\n",
      "ТРК           140\n",
      "ТРЦ           340\n",
      "ТЦ            883\n"
     ]
    }
   ],
   "source": [
    "category = ['ТЦ', 'ТРК', 'ТРЦ', 'ТК']\n",
    "shops.category = shops.category.apply(lambda x: x if (x in category) else 'etc')\n",
    "print('Category Distribution', shops.groupby(['category']).sum())"
   ]
  },
  {
   "cell_type": "code",
   "execution_count": 16,
   "metadata": {},
   "outputs": [
    {
     "data": {
      "text/html": [
       "<div>\n",
       "<style scoped>\n",
       "    .dataframe tbody tr th:only-of-type {\n",
       "        vertical-align: middle;\n",
       "    }\n",
       "\n",
       "    .dataframe tbody tr th {\n",
       "        vertical-align: top;\n",
       "    }\n",
       "\n",
       "    .dataframe thead th {\n",
       "        text-align: right;\n",
       "    }\n",
       "</style>\n",
       "<table border=\"1\" class=\"dataframe\">\n",
       "  <thead>\n",
       "    <tr style=\"text-align: right;\">\n",
       "      <th></th>\n",
       "      <th>shop_id</th>\n",
       "      <th>shop_city</th>\n",
       "      <th>shop_category</th>\n",
       "    </tr>\n",
       "  </thead>\n",
       "  <tbody>\n",
       "    <tr>\n",
       "      <th>0</th>\n",
       "      <td>0</td>\n",
       "      <td>29</td>\n",
       "      <td>0</td>\n",
       "    </tr>\n",
       "    <tr>\n",
       "      <th>1</th>\n",
       "      <td>1</td>\n",
       "      <td>29</td>\n",
       "      <td>4</td>\n",
       "    </tr>\n",
       "    <tr>\n",
       "      <th>2</th>\n",
       "      <td>2</td>\n",
       "      <td>0</td>\n",
       "      <td>4</td>\n",
       "    </tr>\n",
       "    <tr>\n",
       "      <th>3</th>\n",
       "      <td>3</td>\n",
       "      <td>1</td>\n",
       "      <td>2</td>\n",
       "    </tr>\n",
       "    <tr>\n",
       "      <th>4</th>\n",
       "      <td>4</td>\n",
       "      <td>2</td>\n",
       "      <td>4</td>\n",
       "    </tr>\n",
       "  </tbody>\n",
       "</table>\n",
       "</div>"
      ],
      "text/plain": [
       "   shop_id  shop_city  shop_category\n",
       "0        0         29              0\n",
       "1        1         29              4\n",
       "2        2          0              4\n",
       "3        3          1              2\n",
       "4        4          2              4"
      ]
     },
     "execution_count": 16,
     "metadata": {},
     "output_type": "execute_result"
    }
   ],
   "source": [
    "shops['shop_city'] = shops.city\n",
    "shops['shop_category'] = shops.category\n",
    "\n",
    "shops['shop_city'] = LabelEncoder().fit_transform(shops['shop_city'])\n",
    "shops['shop_category'] = LabelEncoder().fit_transform(shops['shop_category'])\n",
    "\n",
    "shops = shops[['shop_id','shop_city', 'shop_category']]\n",
    "shops.head()"
   ]
  },
  {
   "cell_type": "markdown",
   "metadata": {},
   "source": [
    "## Category dataset preprocessing"
   ]
  },
  {
   "cell_type": "code",
   "execution_count": 17,
   "metadata": {},
   "outputs": [
    {
     "name": "stdout",
     "output_type": "stream",
     "text": [
      "84\n"
     ]
    },
    {
     "data": {
      "text/plain": [
       "array(['PC - Гарнитуры/Наушники', 'Аксессуары - PS2', 'Аксессуары - PS3',\n",
       "       'Аксессуары - PS4', 'Аксессуары - PSP', 'Аксессуары - PSVita',\n",
       "       'Аксессуары - XBOX 360', 'Аксессуары - XBOX ONE', 'Билеты (Цифра)',\n",
       "       'Доставка товара', 'Игровые консоли - PS2',\n",
       "       'Игровые консоли - PS3', 'Игровые консоли - PS4',\n",
       "       'Игровые консоли - PSP', 'Игровые консоли - PSVita',\n",
       "       'Игровые консоли - XBOX 360', 'Игровые консоли - XBOX ONE',\n",
       "       'Игровые консоли - Прочие', 'Игры - PS2', 'Игры - PS3',\n",
       "       'Игры - PS4', 'Игры - PSP', 'Игры - PSVita', 'Игры - XBOX 360',\n",
       "       'Игры - XBOX ONE', 'Игры - Аксессуары для игр',\n",
       "       'Игры Android - Цифра', 'Игры MAC - Цифра',\n",
       "       'Игры PC - Дополнительные издания',\n",
       "       'Игры PC - Коллекционные издания', 'Игры PC - Стандартные издания',\n",
       "       'Игры PC - Цифра', 'Карты оплаты (Кино, Музыка, Игры)',\n",
       "       'Карты оплаты - Live!', 'Карты оплаты - Live! (Цифра)',\n",
       "       'Карты оплаты - PSN', 'Карты оплаты - Windows (Цифра)',\n",
       "       'Кино - Blu-Ray', 'Кино - Blu-Ray 3D', 'Кино - Blu-Ray 4K',\n",
       "       'Кино - DVD', 'Кино - Коллекционное',\n",
       "       'Книги - Артбуки, энциклопедии', 'Книги - Аудиокниги',\n",
       "       'Книги - Аудиокниги (Цифра)', 'Книги - Аудиокниги 1С',\n",
       "       'Книги - Бизнес литература', 'Книги - Комиксы, манга',\n",
       "       'Книги - Компьютерная литература',\n",
       "       'Книги - Методические материалы 1С', 'Книги - Открытки',\n",
       "       'Книги - Познавательная литература', 'Книги - Путеводители',\n",
       "       'Книги - Художественная литература', 'Книги - Цифра',\n",
       "       'Музыка - CD локального производства',\n",
       "       'Музыка - CD фирменного производства', 'Музыка - MP3',\n",
       "       'Музыка - Винил', 'Музыка - Музыкальное видео',\n",
       "       'Музыка - Подарочные издания', 'Подарки - Атрибутика',\n",
       "       'Подарки - Гаджеты, роботы, спорт', 'Подарки - Мягкие игрушки',\n",
       "       'Подарки - Настольные игры',\n",
       "       'Подарки - Настольные игры (компактные)',\n",
       "       'Подарки - Открытки, наклейки', 'Подарки - Развитие',\n",
       "       'Подарки - Сертификаты, услуги', 'Подарки - Сувениры',\n",
       "       'Подарки - Сувениры (в навеску)',\n",
       "       'Подарки - Сумки, Альбомы, Коврики д/мыши', 'Подарки - Фигурки',\n",
       "       'Программы - 1С:Предприятие 8', 'Программы - MAC (Цифра)',\n",
       "       'Программы - Для дома и офиса',\n",
       "       'Программы - Для дома и офиса (Цифра)', 'Программы - Обучающие',\n",
       "       'Программы - Обучающие (Цифра)', 'Служебные', 'Служебные - Билеты',\n",
       "       'Чистые носители (шпиль)', 'Чистые носители (штучные)',\n",
       "       'Элементы питания'], dtype=object)"
      ]
     },
     "execution_count": 17,
     "metadata": {},
     "output_type": "execute_result"
    }
   ],
   "source": [
    "print(len(cats.item_category_name.unique()))\n",
    "cats.item_category_name.unique()"
   ]
  },
  {
   "cell_type": "markdown",
   "metadata": {},
   "source": [
    "We think that category 'Игровые консоли' and  'Аксессуары' are same as 'Игры'. <br>\n",
    "So, we transform the two features to 'Игры'<br>\n",
    "Also, PC - Гарнитуры/Наушники and \n",
    "change to Музыка - Гарнитуры/Наушники <br><br>"
   ]
  },
  {
   "cell_type": "code",
   "execution_count": 18,
   "metadata": {},
   "outputs": [
    {
     "name": "stdout",
     "output_type": "stream",
     "text": [
      "           item_category_id\n",
      "type_code                  \n",
      "etc                     236\n",
      "Игры                    343\n",
      "Карты                   170\n",
      "Кино                    195\n",
      "Книги                   624\n",
      "Музыка                  345\n",
      "Подарки                 798\n",
      "Программы               453\n",
      "Служебные               159\n",
      "Чистые                  163\n"
     ]
    }
   ],
   "source": [
    "cats['type_code'] = cats.item_category_name.apply(lambda x: x.split(' ')[0]).astype(str)\n",
    "cats.loc[(cats.type_code == 'Игровые') | (cats.type_code == 'Аксессуары'), 'category'] = 'Игры'\n",
    "cats.loc[cats.type_code == 'PC', 'category'] = 'Музыка'\n",
    "\n",
    "category = ['Игры', 'Карты', 'Кино', 'Книги','Музыка', 'Подарки', 'Программы', 'Служебные', 'Чистые']\n",
    "\n",
    "cats['type_code'] = cats.type_code.apply(lambda x: x if (x in category) else 'etc')\n",
    "\n",
    "print(cats.groupby(['type_code']).sum())\n",
    "cats['type_code'] = LabelEncoder().fit_transform(cats['type_code'])\n",
    "\n",
    "cats['split'] = cats.item_category_name.apply(lambda x: x.split('-'))\n",
    "cats['subtype'] = cats['split'].map(lambda x: x[1].strip() if len(x) > 1 else x[0].strip())\n",
    "cats['subtype_code'] = LabelEncoder().fit_transform(cats['subtype'])\n",
    "cats = cats[['item_category_id','type_code', 'subtype_code']]"
   ]
  },
  {
   "cell_type": "markdown",
   "metadata": {},
   "source": [
    "## Category dataset preprocessing <br>\n",
    "This code get from [1st place solution - Part 1 - \"Hands on Data\"](https://www.kaggle.com/kyakovlev/1st-place-solution-part-1-hands-on-data). <bt><br>\n",
    "We use features 'name_2' and 'name_3' below code."
   ]
  },
  {
   "cell_type": "code",
   "execution_count": 20,
   "metadata": {},
   "outputs": [
    {
     "name": "stdout",
     "output_type": "stream",
     "text": [
      "Most common aditional features:          feature  count\n",
      "0   документация    284\n",
      "1     английская    340\n",
      "2        русские    399\n",
      "3       субтитры    400\n",
      "4            360    465\n",
      "5          jewel    552\n",
      "6           xbox    589\n",
      "7            ps3    611\n",
      "8        русская   1428\n",
      "9       цифровая   1995\n",
      "10            pc   2585\n",
      "11        версия   3427\n",
      "12           box    246\n",
      "13            3d    409\n",
      "14           dvd    503\n",
      "15      digipack    541\n",
      "16          фирм    757\n",
      "17           mp3    854\n",
      "18            cd    871\n",
      "19        регион   1849\n",
      "20            bd   2320\n"
     ]
    }
   ],
   "source": [
    "import re\n",
    "from collections import Counter\n",
    "from operator import itemgetter\n",
    "\n",
    "items = pd.read_csv('items.csv')\n",
    "\n",
    "items['name_1'], items['name_2'] = items['item_name'].str.split('[', 1).str\n",
    "items['name_1'], items['name_3'] = items['item_name'].str.split('(', 1).str\n",
    "\n",
    "items['name_2'] = items['name_2'].str.replace('[^A-Za-z0-9А-Яа-я]+', ' ').str.lower()\n",
    "items['name_3'] = items['name_3'].str.replace('[^A-Za-z0-9А-Яа-я]+', ' ').str.lower()\n",
    "items = items.fillna('0')\n",
    "\n",
    "result_1 = Counter(' '.join(items['name_2'].values.tolist()).split(' ')).items()\n",
    "result_1 = sorted(result_1, key=itemgetter(1))\n",
    "result_1 = pd.DataFrame(result_1, columns=['feature', 'count'])\n",
    "result_1 = result_1[(result_1['feature'].str.len() > 1) & (result_1['count'] > 200)]\n",
    "\n",
    "result_2 = Counter(' '.join(items['name_3'].values.tolist()).split(\" \")).items()\n",
    "result_2 = sorted(result_2, key=itemgetter(1))\n",
    "result_2 = pd.DataFrame(result_2, columns=['feature', 'count'])\n",
    "result_2 = result_2[(result_2['feature'].str.len() > 1) & (result_2['count'] > 200)]\n",
    "\n",
    "result = pd.concat([result_1, result_2])\n",
    "result = result.drop_duplicates(subset=['feature']).reset_index(drop=True)\n",
    "\n",
    "print('Most common aditional features:', result)\n",
    "\n",
    "def name_correction(x):\n",
    "    x = x.lower()\n",
    "    x = x.partition('[')[0]\n",
    "    x = x.partition('(')[0]\n",
    "    x = re.sub('[^A-Za-z0-9А-Яа-я]+', ' ', x)\n",
    "    x = x.replace('  ', ' ')\n",
    "    x = x.strip()\n",
    "    return x\n",
    "\n",
    "items['item_name'] = items['item_name'].apply(lambda x: name_correction(x))\n",
    "items.name_2 = items.name_2.apply(lambda x: x[:-1] if x != '0' else '0')"
   ]
  },
  {
   "cell_type": "markdown",
   "metadata": {},
   "source": [
    "Let's create type of item_names. First, cleansing results of name_2. <br>\n",
    "Concatenate same meaning of types such as, 'x360' & 'xbox360' -> xbox 360 <br>\n",
    "Three words 'pc' in below code look like same. But, after label encoding they transformed different values."
   ]
  },
  {
   "cell_type": "code",
   "execution_count": 21,
   "metadata": {},
   "outputs": [
    {
     "data": {
      "text/html": [
       "<div>\n",
       "<style scoped>\n",
       "    .dataframe tbody tr th:only-of-type {\n",
       "        vertical-align: middle;\n",
       "    }\n",
       "\n",
       "    .dataframe tbody tr th {\n",
       "        vertical-align: top;\n",
       "    }\n",
       "\n",
       "    .dataframe thead th {\n",
       "        text-align: right;\n",
       "    }\n",
       "</style>\n",
       "<table border=\"1\" class=\"dataframe\">\n",
       "  <thead>\n",
       "    <tr style=\"text-align: right;\">\n",
       "      <th></th>\n",
       "      <th>item_id</th>\n",
       "      <th>item_category_id</th>\n",
       "    </tr>\n",
       "    <tr>\n",
       "      <th>type</th>\n",
       "      <th></th>\n",
       "      <th></th>\n",
       "    </tr>\n",
       "  </thead>\n",
       "  <tbody>\n",
       "    <tr>\n",
       "      <th>5c5</th>\n",
       "      <td>12118</td>\n",
       "      <td>16</td>\n",
       "    </tr>\n",
       "    <tr>\n",
       "      <th>5c7</th>\n",
       "      <td>26808</td>\n",
       "      <td>32</td>\n",
       "    </tr>\n",
       "    <tr>\n",
       "      <th>5f4</th>\n",
       "      <td>7936</td>\n",
       "      <td>7</td>\n",
       "    </tr>\n",
       "    <tr>\n",
       "      <th>6dv</th>\n",
       "      <td>7934</td>\n",
       "      <td>7</td>\n",
       "    </tr>\n",
       "    <tr>\n",
       "      <th>6jv</th>\n",
       "      <td>7924</td>\n",
       "      <td>7</td>\n",
       "    </tr>\n",
       "    <tr>\n",
       "      <th>6l6</th>\n",
       "      <td>7935</td>\n",
       "      <td>7</td>\n",
       "    </tr>\n",
       "    <tr>\n",
       "      <th>android</th>\n",
       "      <td>12994</td>\n",
       "      <td>78</td>\n",
       "    </tr>\n",
       "    <tr>\n",
       "      <th>hm3</th>\n",
       "      <td>7926</td>\n",
       "      <td>7</td>\n",
       "    </tr>\n",
       "    <tr>\n",
       "      <th>j72</th>\n",
       "      <td>31709</td>\n",
       "      <td>28</td>\n",
       "    </tr>\n",
       "    <tr>\n",
       "      <th>kf6</th>\n",
       "      <td>13403</td>\n",
       "      <td>16</td>\n",
       "    </tr>\n",
       "    <tr>\n",
       "      <th>kf7</th>\n",
       "      <td>13402</td>\n",
       "      <td>16</td>\n",
       "    </tr>\n",
       "    <tr>\n",
       "      <th>kg4</th>\n",
       "      <td>12117</td>\n",
       "      <td>16</td>\n",
       "    </tr>\n",
       "    <tr>\n",
       "      <th>ps2</th>\n",
       "      <td>7076</td>\n",
       "      <td>36</td>\n",
       "    </tr>\n",
       "    <tr>\n",
       "      <th>s3v</th>\n",
       "      <td>7933</td>\n",
       "      <td>7</td>\n",
       "    </tr>\n",
       "    <tr>\n",
       "      <th>s4v</th>\n",
       "      <td>7937</td>\n",
       "      <td>7</td>\n",
       "    </tr>\n",
       "    <tr>\n",
       "      <th>англ</th>\n",
       "      <td>2821</td>\n",
       "      <td>28</td>\n",
       "    </tr>\n",
       "    <tr>\n",
       "      <th>русская</th>\n",
       "      <td>1547</td>\n",
       "      <td>25</td>\n",
       "    </tr>\n",
       "    <tr>\n",
       "      <th>только</th>\n",
       "      <td>60074</td>\n",
       "      <td>156</td>\n",
       "    </tr>\n",
       "    <tr>\n",
       "      <th>цифро</th>\n",
       "      <td>3864</td>\n",
       "      <td>54</td>\n",
       "    </tr>\n",
       "  </tbody>\n",
       "</table>\n",
       "</div>"
      ],
      "text/plain": [
       "         item_id  item_category_id\n",
       "type                              \n",
       "5c5        12118                16\n",
       "5c7        26808                32\n",
       "5f4         7936                 7\n",
       "6dv         7934                 7\n",
       "6jv         7924                 7\n",
       "6l6         7935                 7\n",
       "android    12994                78\n",
       "hm3         7926                 7\n",
       "j72        31709                28\n",
       "kf6        13403                16\n",
       "kf7        13402                16\n",
       "kg4        12117                16\n",
       "ps2         7076                36\n",
       "s3v         7933                 7\n",
       "s4v         7937                 7\n",
       "англ        2821                28\n",
       "русская     1547                25\n",
       "только     60074               156\n",
       "цифро       3864                54"
      ]
     },
     "execution_count": 21,
     "metadata": {},
     "output_type": "execute_result"
    }
   ],
   "source": [
    "items['type'] = items.name_2.apply(lambda x: x[0:8] if x.split(' ')[0] == 'xbox' else x.split(' ')[0])\n",
    "items.loc[(items.type == 'x360') | (items.type == 'xbox360'), 'type'] = 'xbox 360'\n",
    "items.loc[items.type == '', 'type'] = 'mac'\n",
    "items.type = items.type.apply(lambda x: x.replace(' ',''))\n",
    "items.loc[(items.type == 'pc') | (items.type == 'pс') | (items.type == 'рс'), 'type'] = 'pc'\n",
    "items.loc[(items.type == 'рs3'), 'type'] = 'ps3'\n",
    "\n",
    "group_sum = items.groupby('type').sum()\n",
    "group_sum.loc[group_sum.item_category_id < 200]"
   ]
  },
  {
   "cell_type": "markdown",
   "metadata": {},
   "source": [
    "And then, drop types"
   ]
  },
  {
   "cell_type": "code",
   "execution_count": 22,
   "metadata": {},
   "outputs": [
    {
     "data": {
      "text/html": [
       "<div>\n",
       "<style scoped>\n",
       "    .dataframe tbody tr th:only-of-type {\n",
       "        vertical-align: middle;\n",
       "    }\n",
       "\n",
       "    .dataframe tbody tr th {\n",
       "        vertical-align: top;\n",
       "    }\n",
       "\n",
       "    .dataframe thead th {\n",
       "        text-align: right;\n",
       "    }\n",
       "</style>\n",
       "<table border=\"1\" class=\"dataframe\">\n",
       "  <thead>\n",
       "    <tr style=\"text-align: right;\">\n",
       "      <th></th>\n",
       "      <th>item_id</th>\n",
       "      <th>item_category_id</th>\n",
       "    </tr>\n",
       "    <tr>\n",
       "      <th>name_2</th>\n",
       "      <th></th>\n",
       "      <th></th>\n",
       "    </tr>\n",
       "  </thead>\n",
       "  <tbody>\n",
       "    <tr>\n",
       "      <th>0</th>\n",
       "      <td>218310960</td>\n",
       "      <td>872182</td>\n",
       "    </tr>\n",
       "    <tr>\n",
       "      <th>etc</th>\n",
       "      <td>253458</td>\n",
       "      <td>550</td>\n",
       "    </tr>\n",
       "    <tr>\n",
       "      <th>mac</th>\n",
       "      <td>148743</td>\n",
       "      <td>2323</td>\n",
       "    </tr>\n",
       "    <tr>\n",
       "      <th>pc</th>\n",
       "      <td>16991083</td>\n",
       "      <td>106924</td>\n",
       "    </tr>\n",
       "    <tr>\n",
       "      <th>ps</th>\n",
       "      <td>431537</td>\n",
       "      <td>1738</td>\n",
       "    </tr>\n",
       "    <tr>\n",
       "      <th>ps3</th>\n",
       "      <td>3531772</td>\n",
       "      <td>11422</td>\n",
       "    </tr>\n",
       "    <tr>\n",
       "      <th>ps4</th>\n",
       "      <td>895981</td>\n",
       "      <td>3489</td>\n",
       "    </tr>\n",
       "    <tr>\n",
       "      <th>psp</th>\n",
       "      <td>692947</td>\n",
       "      <td>2415</td>\n",
       "    </tr>\n",
       "    <tr>\n",
       "      <th>xbox360</th>\n",
       "      <td>2362398</td>\n",
       "      <td>10718</td>\n",
       "    </tr>\n",
       "    <tr>\n",
       "      <th>xboxone</th>\n",
       "      <td>566890</td>\n",
       "      <td>2952</td>\n",
       "    </tr>\n",
       "    <tr>\n",
       "      <th>цифровая</th>\n",
       "      <td>1557596</td>\n",
       "      <td>11553</td>\n",
       "    </tr>\n",
       "  </tbody>\n",
       "</table>\n",
       "</div>"
      ],
      "text/plain": [
       "            item_id  item_category_id\n",
       "name_2                               \n",
       "0         218310960            872182\n",
       "etc          253458               550\n",
       "mac          148743              2323\n",
       "pc         16991083            106924\n",
       "ps           431537              1738\n",
       "ps3         3531772             11422\n",
       "ps4          895981              3489\n",
       "psp          692947              2415\n",
       "xbox360     2362398             10718\n",
       "xboxone      566890              2952\n",
       "цифровая    1557596             11553"
      ]
     },
     "execution_count": 22,
     "metadata": {},
     "output_type": "execute_result"
    }
   ],
   "source": [
    "drop_list = ['5c5', '5c7', '5f4', '6dv', '6jv', '6l6', 'android', 'hm3', 'j72', 'kf6', 'kf7','kg4',\n",
    "            'ps2', 's3v', 's4v'\t,'англ', 'русская', 'только', 'цифро']\n",
    "\n",
    "items.name_2 = items.type.apply(lambda x: 'etc' if x in drop_list else x)\n",
    "items = items.drop(['type'], axis=1)\n",
    "items.groupby('name_2').sum()"
   ]
  },
  {
   "cell_type": "code",
   "execution_count": 23,
   "metadata": {},
   "outputs": [
    {
     "data": {
      "text/html": [
       "<div>\n",
       "<style scoped>\n",
       "    .dataframe tbody tr th:only-of-type {\n",
       "        vertical-align: middle;\n",
       "    }\n",
       "\n",
       "    .dataframe tbody tr th {\n",
       "        vertical-align: top;\n",
       "    }\n",
       "\n",
       "    .dataframe thead th {\n",
       "        text-align: right;\n",
       "    }\n",
       "</style>\n",
       "<table border=\"1\" class=\"dataframe\">\n",
       "  <thead>\n",
       "    <tr style=\"text-align: right;\">\n",
       "      <th></th>\n",
       "      <th>item_name</th>\n",
       "      <th>item_id</th>\n",
       "      <th>item_category_id</th>\n",
       "      <th>name_1</th>\n",
       "      <th>name_2</th>\n",
       "      <th>name_3</th>\n",
       "    </tr>\n",
       "  </thead>\n",
       "  <tbody>\n",
       "    <tr>\n",
       "      <th>0</th>\n",
       "      <td>во власти наваждения</td>\n",
       "      <td>0</td>\n",
       "      <td>40</td>\n",
       "      <td>! ВО ВЛАСТИ НАВАЖДЕНИЯ</td>\n",
       "      <td>0</td>\n",
       "      <td>пласт d</td>\n",
       "    </tr>\n",
       "    <tr>\n",
       "      <th>1</th>\n",
       "      <td>abbyy finereader 12 professional edition full</td>\n",
       "      <td>1</td>\n",
       "      <td>76</td>\n",
       "      <td>!ABBYY FineReader 12 Professional Edition Full...</td>\n",
       "      <td>pc</td>\n",
       "      <td>0</td>\n",
       "    </tr>\n",
       "    <tr>\n",
       "      <th>2</th>\n",
       "      <td>в лучах славы</td>\n",
       "      <td>2</td>\n",
       "      <td>40</td>\n",
       "      <td>***В ЛУЧАХ СЛАВЫ</td>\n",
       "      <td>0</td>\n",
       "      <td>unv d</td>\n",
       "    </tr>\n",
       "    <tr>\n",
       "      <th>3</th>\n",
       "      <td>голубая волна</td>\n",
       "      <td>3</td>\n",
       "      <td>40</td>\n",
       "      <td>***ГОЛУБАЯ ВОЛНА</td>\n",
       "      <td>0</td>\n",
       "      <td>univ d</td>\n",
       "    </tr>\n",
       "    <tr>\n",
       "      <th>4</th>\n",
       "      <td>коробка</td>\n",
       "      <td>4</td>\n",
       "      <td>40</td>\n",
       "      <td>***КОРОБКА</td>\n",
       "      <td>0</td>\n",
       "      <td>стекло d</td>\n",
       "    </tr>\n",
       "  </tbody>\n",
       "</table>\n",
       "</div>"
      ],
      "text/plain": [
       "                                       item_name  item_id  item_category_id  \\\n",
       "0                           во власти наваждения        0                40   \n",
       "1  abbyy finereader 12 professional edition full        1                76   \n",
       "2                                  в лучах славы        2                40   \n",
       "3                                  голубая волна        3                40   \n",
       "4                                        коробка        4                40   \n",
       "\n",
       "                                              name_1 name_2    name_3  \n",
       "0                            ! ВО ВЛАСТИ НАВАЖДЕНИЯ       0   пласт d  \n",
       "1  !ABBYY FineReader 12 Professional Edition Full...     pc         0  \n",
       "2                                ***В ЛУЧАХ СЛАВЫ         0     unv d  \n",
       "3                                 ***ГОЛУБАЯ ВОЛНА        0    univ d  \n",
       "4                                        ***КОРОБКА       0  стекло d  "
      ]
     },
     "execution_count": 23,
     "metadata": {},
     "output_type": "execute_result"
    }
   ],
   "source": [
    "items.head()"
   ]
  },
  {
   "cell_type": "code",
   "execution_count": 24,
   "metadata": {},
   "outputs": [
    {
     "data": {
      "text/html": [
       "<div>\n",
       "<style scoped>\n",
       "    .dataframe tbody tr th:only-of-type {\n",
       "        vertical-align: middle;\n",
       "    }\n",
       "\n",
       "    .dataframe tbody tr th {\n",
       "        vertical-align: top;\n",
       "    }\n",
       "\n",
       "    .dataframe thead th {\n",
       "        text-align: right;\n",
       "    }\n",
       "</style>\n",
       "<table border=\"1\" class=\"dataframe\">\n",
       "  <thead>\n",
       "    <tr style=\"text-align: right;\">\n",
       "      <th></th>\n",
       "      <th>item_id</th>\n",
       "      <th>item_category_id</th>\n",
       "      <th>name_2</th>\n",
       "      <th>name_3</th>\n",
       "    </tr>\n",
       "  </thead>\n",
       "  <tbody>\n",
       "    <tr>\n",
       "      <th>0</th>\n",
       "      <td>0</td>\n",
       "      <td>40</td>\n",
       "      <td>0</td>\n",
       "      <td>1331</td>\n",
       "    </tr>\n",
       "    <tr>\n",
       "      <th>1</th>\n",
       "      <td>1</td>\n",
       "      <td>76</td>\n",
       "      <td>3</td>\n",
       "      <td>42</td>\n",
       "    </tr>\n",
       "    <tr>\n",
       "      <th>2</th>\n",
       "      <td>2</td>\n",
       "      <td>40</td>\n",
       "      <td>0</td>\n",
       "      <td>1011</td>\n",
       "    </tr>\n",
       "    <tr>\n",
       "      <th>3</th>\n",
       "      <td>3</td>\n",
       "      <td>40</td>\n",
       "      <td>0</td>\n",
       "      <td>1010</td>\n",
       "    </tr>\n",
       "    <tr>\n",
       "      <th>4</th>\n",
       "      <td>4</td>\n",
       "      <td>40</td>\n",
       "      <td>0</td>\n",
       "      <td>1572</td>\n",
       "    </tr>\n",
       "  </tbody>\n",
       "</table>\n",
       "</div>"
      ],
      "text/plain": [
       "   item_id  item_category_id  name_2  name_3\n",
       "0        0                40       0    1331\n",
       "1        1                76       3      42\n",
       "2        2                40       0    1011\n",
       "3        3                40       0    1010\n",
       "4        4                40       0    1572"
      ]
     },
     "execution_count": 24,
     "metadata": {},
     "output_type": "execute_result"
    }
   ],
   "source": [
    "items['name_2'] = LabelEncoder().fit_transform(items['name_2'])\n",
    "items['name_3'] = LabelEncoder().fit_transform(items['name_3'])\n",
    "items.drop(['item_name', 'name_1'], axis=1, inplace=True)\n",
    "items.head()"
   ]
  },
  {
   "cell_type": "markdown",
   "metadata": {},
   "source": [
    "## Monthly sales\n",
    "Test set is a product of some shops and some items within 34 month. There are 5100 items * 42 shops = 214200 pairs. 363 items are new compared to the train. Hence, for the most of the items in the test set target value should be zero. \n",
    "In the other hand train set contains only pairs which were sold or returned in the past. Tha main idea is to calculate monthly sales and <b>extend it with zero sales</b> for each unique pair within the month. This way train data will be similar to test data."
   ]
  },
  {
   "cell_type": "code",
   "execution_count": 25,
   "metadata": {},
   "outputs": [
    {
     "data": {
      "text/plain": [
       "14.00943899154663"
      ]
     },
     "execution_count": 25,
     "metadata": {},
     "output_type": "execute_result"
    }
   ],
   "source": [
    "ts = time.time()\n",
    "matrix = []\n",
    "cols = ['date_block_num','shop_id','item_id']\n",
    "for i in range(34):\n",
    "    sales = train[train.date_block_num==i]\n",
    "    matrix.append(np.array(list(product([i], sales.shop_id.unique(), sales.item_id.unique())), dtype='int16'))\n",
    "    \n",
    "matrix = pd.DataFrame(np.vstack(matrix), columns=cols)\n",
    "matrix['date_block_num'] = matrix['date_block_num'].astype(np.int8)\n",
    "matrix['shop_id'] = matrix['shop_id'].astype(np.int8)\n",
    "matrix['item_id'] = matrix['item_id'].astype(np.int16)\n",
    "matrix.sort_values(cols,inplace=True)\n",
    "time.time() - ts"
   ]
  },
  {
   "cell_type": "code",
   "execution_count": 26,
   "metadata": {},
   "outputs": [
    {
     "name": "stdout",
     "output_type": "stream",
     "text": [
      "          date_block_num  shop_id  item_id\n",
      "114910                 0        2       19\n",
      "117150                 0        2       27\n",
      "120623                 0        2       28\n",
      "118316                 0        2       29\n",
      "114602                 0        2       32\n",
      "...                  ...      ...      ...\n",
      "10697061              33       59    22162\n",
      "10697251              33       59    22163\n",
      "10697917              33       59    22164\n",
      "10699443              33       59    22166\n",
      "10698738              33       59    22167\n",
      "\n",
      "[10842077 rows x 3 columns]\n"
     ]
    },
    {
     "data": {
      "text/html": [
       "<div>\n",
       "<style scoped>\n",
       "    .dataframe tbody tr th:only-of-type {\n",
       "        vertical-align: middle;\n",
       "    }\n",
       "\n",
       "    .dataframe tbody tr th {\n",
       "        vertical-align: top;\n",
       "    }\n",
       "\n",
       "    .dataframe thead th {\n",
       "        text-align: right;\n",
       "    }\n",
       "</style>\n",
       "<table border=\"1\" class=\"dataframe\">\n",
       "  <thead>\n",
       "    <tr style=\"text-align: right;\">\n",
       "      <th></th>\n",
       "      <th>date</th>\n",
       "      <th>date_block_num</th>\n",
       "      <th>shop_id</th>\n",
       "      <th>item_id</th>\n",
       "      <th>item_price</th>\n",
       "      <th>item_cnt_day</th>\n",
       "    </tr>\n",
       "  </thead>\n",
       "  <tbody>\n",
       "    <tr>\n",
       "      <th>0</th>\n",
       "      <td>02.01.2013</td>\n",
       "      <td>0</td>\n",
       "      <td>59</td>\n",
       "      <td>22154</td>\n",
       "      <td>999.00</td>\n",
       "      <td>1.0</td>\n",
       "    </tr>\n",
       "    <tr>\n",
       "      <th>1</th>\n",
       "      <td>03.01.2013</td>\n",
       "      <td>0</td>\n",
       "      <td>25</td>\n",
       "      <td>2552</td>\n",
       "      <td>899.00</td>\n",
       "      <td>1.0</td>\n",
       "    </tr>\n",
       "    <tr>\n",
       "      <th>2</th>\n",
       "      <td>05.01.2013</td>\n",
       "      <td>0</td>\n",
       "      <td>25</td>\n",
       "      <td>2552</td>\n",
       "      <td>899.00</td>\n",
       "      <td>0.0</td>\n",
       "    </tr>\n",
       "    <tr>\n",
       "      <th>3</th>\n",
       "      <td>06.01.2013</td>\n",
       "      <td>0</td>\n",
       "      <td>25</td>\n",
       "      <td>2554</td>\n",
       "      <td>1709.05</td>\n",
       "      <td>1.0</td>\n",
       "    </tr>\n",
       "    <tr>\n",
       "      <th>4</th>\n",
       "      <td>15.01.2013</td>\n",
       "      <td>0</td>\n",
       "      <td>25</td>\n",
       "      <td>2555</td>\n",
       "      <td>1099.00</td>\n",
       "      <td>1.0</td>\n",
       "    </tr>\n",
       "  </tbody>\n",
       "</table>\n",
       "</div>"
      ],
      "text/plain": [
       "         date  date_block_num  shop_id  item_id  item_price  item_cnt_day\n",
       "0  02.01.2013               0       59    22154      999.00           1.0\n",
       "1  03.01.2013               0       25     2552      899.00           1.0\n",
       "2  05.01.2013               0       25     2552      899.00           0.0\n",
       "3  06.01.2013               0       25     2554     1709.05           1.0\n",
       "4  15.01.2013               0       25     2555     1099.00           1.0"
      ]
     },
     "execution_count": 26,
     "metadata": {},
     "output_type": "execute_result"
    }
   ],
   "source": [
    "print(matrix)\n",
    "train.head()"
   ]
  },
  {
   "cell_type": "markdown",
   "metadata": {},
   "source": [
    "Aggregate train set by shop/item pairs to calculate target aggreagates, then <b>clip(0,20)</b> target value. This way train target will be similar to the test predictions.<br>\n",
    "https://www.kaggle.com/c/competitive-data-science-predict-future-sales/discussion/50149#latest-287470\n",
    "\n",
    "<i>I use floats instead of ints for item_cnt_month to avoid downcasting it after concatination with the test set later. If it would be int16, after concatination with NaN values it becomes int64, but foat16 becomes float16 even with NaNs.</i>"
   ]
  },
  {
   "cell_type": "code",
   "execution_count": 27,
   "metadata": {},
   "outputs": [],
   "source": [
    "train['revenue'] = train['item_price'] *  train['item_cnt_day']"
   ]
  },
  {
   "cell_type": "code",
   "execution_count": 28,
   "metadata": {},
   "outputs": [
    {
     "data": {
      "text/plain": [
       "6.502332925796509"
      ]
     },
     "execution_count": 28,
     "metadata": {},
     "output_type": "execute_result"
    }
   ],
   "source": [
    "ts = time.time()\n",
    "group = train.groupby(['date_block_num','shop_id','item_id']).agg({'item_cnt_day': ['sum']})\n",
    "\n",
    "group.columns = ['item_cnt_month']\n",
    "group.reset_index(inplace=True)\n",
    "matrix = pd.merge(matrix, group, on=cols, how='left')\n",
    "matrix['item_cnt_month'] = (matrix['item_cnt_month']\n",
    "                                .fillna(0)#.astype(np.float16))\n",
    "                                .clip(0,20) # NB clip target here\n",
    "                                .astype(np.float16))\n",
    "time.time() - ts"
   ]
  },
  {
   "cell_type": "markdown",
   "metadata": {},
   "source": [
    "## Test set\n",
    "To use time tricks append test pairs to the matrix."
   ]
  },
  {
   "cell_type": "code",
   "execution_count": 29,
   "metadata": {},
   "outputs": [],
   "source": [
    "test['date_block_num'] = 34\n",
    "test['date_block_num'] = test['date_block_num'].astype(np.int8)\n",
    "test['shop_id'] = test['shop_id'].astype(np.int8)\n",
    "test['item_id'] = test['item_id'].astype(np.int16)"
   ]
  },
  {
   "cell_type": "code",
   "execution_count": 30,
   "metadata": {},
   "outputs": [
    {
     "data": {
      "text/plain": [
       "0.16738605499267578"
      ]
     },
     "execution_count": 30,
     "metadata": {},
     "output_type": "execute_result"
    }
   ],
   "source": [
    "ts = time.time()\n",
    "matrix = pd.concat([matrix, test], ignore_index=True, sort=False, keys=cols)\n",
    "matrix.fillna(0, inplace=True) # 34 month\n",
    "time.time() - ts"
   ]
  },
  {
   "cell_type": "markdown",
   "metadata": {},
   "source": [
    "## Shops/Items/Cats features"
   ]
  },
  {
   "cell_type": "code",
   "execution_count": 31,
   "metadata": {},
   "outputs": [
    {
     "data": {
      "text/plain": [
       "5.432368278503418"
      ]
     },
     "execution_count": 31,
     "metadata": {},
     "output_type": "execute_result"
    }
   ],
   "source": [
    "ts = time.time()\n",
    "matrix = pd.merge(matrix, shops, on=['shop_id'], how='left')\n",
    "matrix = pd.merge(matrix, items, on=['item_id'], how='left')\n",
    "matrix = pd.merge(matrix, cats, on=['item_category_id'], how='left')\n",
    "matrix['shop_city'] = matrix['shop_city'].astype(np.int8)\n",
    "matrix['shop_category'] = matrix['shop_category'].astype(np.int8)\n",
    "matrix['item_category_id'] = matrix['item_category_id'].astype(np.int8)\n",
    "matrix['type_code'] = matrix['type_code'].astype(np.int8)\n",
    "matrix['subtype_code'] = matrix['subtype_code'].astype(np.int8)\n",
    "time.time() - ts"
   ]
  },
  {
   "cell_type": "code",
   "execution_count": 32,
   "metadata": {},
   "outputs": [
    {
     "data": {
      "text/html": [
       "<div>\n",
       "<style scoped>\n",
       "    .dataframe tbody tr th:only-of-type {\n",
       "        vertical-align: middle;\n",
       "    }\n",
       "\n",
       "    .dataframe tbody tr th {\n",
       "        vertical-align: top;\n",
       "    }\n",
       "\n",
       "    .dataframe thead th {\n",
       "        text-align: right;\n",
       "    }\n",
       "</style>\n",
       "<table border=\"1\" class=\"dataframe\">\n",
       "  <thead>\n",
       "    <tr style=\"text-align: right;\">\n",
       "      <th></th>\n",
       "      <th>date_block_num</th>\n",
       "      <th>shop_id</th>\n",
       "      <th>item_id</th>\n",
       "      <th>item_cnt_month</th>\n",
       "      <th>shop_city</th>\n",
       "      <th>shop_category</th>\n",
       "      <th>item_category_id</th>\n",
       "      <th>name_2</th>\n",
       "      <th>name_3</th>\n",
       "      <th>type_code</th>\n",
       "      <th>subtype_code</th>\n",
       "    </tr>\n",
       "  </thead>\n",
       "  <tbody>\n",
       "    <tr>\n",
       "      <th>0</th>\n",
       "      <td>0</td>\n",
       "      <td>2</td>\n",
       "      <td>19</td>\n",
       "      <td>0.0</td>\n",
       "      <td>0</td>\n",
       "      <td>4</td>\n",
       "      <td>40</td>\n",
       "      <td>0</td>\n",
       "      <td>42</td>\n",
       "      <td>3</td>\n",
       "      <td>4</td>\n",
       "    </tr>\n",
       "    <tr>\n",
       "      <th>1</th>\n",
       "      <td>0</td>\n",
       "      <td>2</td>\n",
       "      <td>27</td>\n",
       "      <td>1.0</td>\n",
       "      <td>0</td>\n",
       "      <td>4</td>\n",
       "      <td>19</td>\n",
       "      <td>5</td>\n",
       "      <td>42</td>\n",
       "      <td>1</td>\n",
       "      <td>10</td>\n",
       "    </tr>\n",
       "    <tr>\n",
       "      <th>2</th>\n",
       "      <td>0</td>\n",
       "      <td>2</td>\n",
       "      <td>28</td>\n",
       "      <td>0.0</td>\n",
       "      <td>0</td>\n",
       "      <td>4</td>\n",
       "      <td>30</td>\n",
       "      <td>3</td>\n",
       "      <td>42</td>\n",
       "      <td>1</td>\n",
       "      <td>55</td>\n",
       "    </tr>\n",
       "    <tr>\n",
       "      <th>3</th>\n",
       "      <td>0</td>\n",
       "      <td>2</td>\n",
       "      <td>29</td>\n",
       "      <td>0.0</td>\n",
       "      <td>0</td>\n",
       "      <td>4</td>\n",
       "      <td>23</td>\n",
       "      <td>8</td>\n",
       "      <td>42</td>\n",
       "      <td>1</td>\n",
       "      <td>16</td>\n",
       "    </tr>\n",
       "    <tr>\n",
       "      <th>4</th>\n",
       "      <td>0</td>\n",
       "      <td>2</td>\n",
       "      <td>32</td>\n",
       "      <td>0.0</td>\n",
       "      <td>0</td>\n",
       "      <td>4</td>\n",
       "      <td>40</td>\n",
       "      <td>0</td>\n",
       "      <td>42</td>\n",
       "      <td>3</td>\n",
       "      <td>4</td>\n",
       "    </tr>\n",
       "  </tbody>\n",
       "</table>\n",
       "</div>"
      ],
      "text/plain": [
       "   date_block_num  shop_id  item_id  item_cnt_month  shop_city  shop_category  \\\n",
       "0               0        2       19             0.0          0              4   \n",
       "1               0        2       27             1.0          0              4   \n",
       "2               0        2       28             0.0          0              4   \n",
       "3               0        2       29             0.0          0              4   \n",
       "4               0        2       32             0.0          0              4   \n",
       "\n",
       "   item_category_id  name_2  name_3  type_code  subtype_code  \n",
       "0                40       0      42          3             4  \n",
       "1                19       5      42          1            10  \n",
       "2                30       3      42          1            55  \n",
       "3                23       8      42          1            16  \n",
       "4                40       0      42          3             4  "
      ]
     },
     "execution_count": 32,
     "metadata": {},
     "output_type": "execute_result"
    }
   ],
   "source": [
    "matrix.head()"
   ]
  },
  {
   "cell_type": "markdown",
   "metadata": {},
   "source": [
    "## Traget lags\n",
    "We use lag_feature : 3"
   ]
  },
  {
   "cell_type": "code",
   "execution_count": 33,
   "metadata": {},
   "outputs": [],
   "source": [
    "def lag_feature(df, lags, col):\n",
    "    tmp = df[['date_block_num','shop_id','item_id',col]]\n",
    "    for i in lags:\n",
    "        shifted = tmp.copy()\n",
    "        shifted.columns = ['date_block_num','shop_id','item_id', col+'_lag_'+str(i)]\n",
    "        shifted['date_block_num'] += i\n",
    "        df = pd.merge(df, shifted, on=['date_block_num','shop_id','item_id'], how='left')\n",
    "    return df"
   ]
  },
  {
   "cell_type": "code",
   "execution_count": 34,
   "metadata": {},
   "outputs": [
    {
     "data": {
      "text/plain": [
       "26.300715923309326"
      ]
     },
     "execution_count": 34,
     "metadata": {},
     "output_type": "execute_result"
    }
   ],
   "source": [
    "ts = time.time()\n",
    "matrix = lag_feature(matrix, [1,2,3], 'item_cnt_month')\n",
    "time.time() - ts"
   ]
  },
  {
   "cell_type": "markdown",
   "metadata": {},
   "source": [
    "## Mean encoded features<br><br>"
   ]
  },
  {
   "cell_type": "code",
   "execution_count": 35,
   "metadata": {},
   "outputs": [
    {
     "data": {
      "text/plain": [
       "12.368695974349976"
      ]
     },
     "execution_count": 35,
     "metadata": {},
     "output_type": "execute_result"
    }
   ],
   "source": [
    "ts = time.time()\n",
    "group = matrix.groupby(['date_block_num']).agg({'item_cnt_month': ['mean']})\n",
    "group.columns = [ 'date_avg_item_cnt' ]\n",
    "group.reset_index(inplace=True)\n",
    "\n",
    "matrix = pd.merge(matrix, group, on=['date_block_num'], how='left')\n",
    "matrix['date_avg_item_cnt'] = matrix['date_avg_item_cnt'].astype(np.float16)\n",
    "matrix = lag_feature(matrix, [1], 'date_avg_item_cnt')\n",
    "matrix.drop(['date_avg_item_cnt'], axis=1, inplace=True)\n",
    "time.time() - ts"
   ]
  },
  {
   "cell_type": "code",
   "execution_count": 36,
   "metadata": {},
   "outputs": [
    {
     "data": {
      "text/plain": [
       "32.26063108444214"
      ]
     },
     "execution_count": 36,
     "metadata": {},
     "output_type": "execute_result"
    }
   ],
   "source": [
    "ts = time.time()\n",
    "group = matrix.groupby(['date_block_num', 'item_id']).agg({'item_cnt_month': ['mean']})\n",
    "group.columns = [ 'date_item_avg_item_cnt' ]\n",
    "group.reset_index(inplace=True)\n",
    "\n",
    "matrix = pd.merge(matrix, group, on=['date_block_num','item_id'], how='left')\n",
    "matrix['date_item_avg_item_cnt'] = matrix['date_item_avg_item_cnt'].astype(np.float16)\n",
    "matrix = lag_feature(matrix, [1,2,3], 'date_item_avg_item_cnt')\n",
    "matrix.drop(['date_item_avg_item_cnt'], axis=1, inplace=True)\n",
    "time.time() - ts"
   ]
  },
  {
   "cell_type": "code",
   "execution_count": 37,
   "metadata": {},
   "outputs": [
    {
     "data": {
      "text/plain": [
       "31.663743019104004"
      ]
     },
     "execution_count": 37,
     "metadata": {},
     "output_type": "execute_result"
    }
   ],
   "source": [
    "ts = time.time()\n",
    "group = matrix.groupby(['date_block_num', 'shop_id']).agg({'item_cnt_month': ['mean']})\n",
    "group.columns = [ 'date_shop_avg_item_cnt' ]\n",
    "group.reset_index(inplace=True)\n",
    "\n",
    "matrix = pd.merge(matrix, group, on=['date_block_num','shop_id'], how='left')\n",
    "matrix['date_shop_avg_item_cnt'] = matrix['date_shop_avg_item_cnt'].astype(np.float16)\n",
    "matrix = lag_feature(matrix, [1,2,3], 'date_shop_avg_item_cnt')\n",
    "matrix.drop(['date_shop_avg_item_cnt'], axis=1, inplace=True)\n",
    "time.time() - ts"
   ]
  },
  {
   "cell_type": "code",
   "execution_count": 38,
   "metadata": {},
   "outputs": [
    {
     "data": {
      "text/plain": [
       "14.760799169540405"
      ]
     },
     "execution_count": 38,
     "metadata": {},
     "output_type": "execute_result"
    }
   ],
   "source": [
    "ts = time.time()\n",
    "group = matrix.groupby(['date_block_num', 'item_category_id']).agg({'item_cnt_month': ['mean']})\n",
    "group.columns = [ 'date_cat_avg_item_cnt' ]\n",
    "group.reset_index(inplace=True)\n",
    "\n",
    "matrix = pd.merge(matrix, group, on=['date_block_num','item_category_id'], how='left')\n",
    "matrix['date_cat_avg_item_cnt'] = matrix['date_cat_avg_item_cnt'].astype(np.float16)\n",
    "matrix = lag_feature(matrix, [1], 'date_cat_avg_item_cnt')\n",
    "matrix.drop(['date_cat_avg_item_cnt'], axis=1, inplace=True)\n",
    "time.time() - ts"
   ]
  },
  {
   "cell_type": "code",
   "execution_count": 39,
   "metadata": {},
   "outputs": [
    {
     "data": {
      "text/plain": [
       "15.583253145217896"
      ]
     },
     "execution_count": 39,
     "metadata": {},
     "output_type": "execute_result"
    }
   ],
   "source": [
    "ts = time.time()\n",
    "group = matrix.groupby(['date_block_num', 'shop_id', 'item_category_id']).agg({'item_cnt_month': ['mean']})\n",
    "group.columns = ['date_shop_cat_avg_item_cnt']\n",
    "group.reset_index(inplace=True)\n",
    "\n",
    "matrix = pd.merge(matrix, group, on=['date_block_num', 'shop_id', 'item_category_id'], how='left')\n",
    "matrix['date_shop_cat_avg_item_cnt'] = matrix['date_shop_cat_avg_item_cnt'].astype(np.float16)\n",
    "matrix = lag_feature(matrix, [1], 'date_shop_cat_avg_item_cnt')\n",
    "matrix.drop(['date_shop_cat_avg_item_cnt'], axis=1, inplace=True)\n",
    "time.time() - ts"
   ]
  },
  {
   "cell_type": "code",
   "execution_count": 40,
   "metadata": {},
   "outputs": [
    {
     "data": {
      "text/plain": [
       "28.30965304374695"
      ]
     },
     "execution_count": 40,
     "metadata": {},
     "output_type": "execute_result"
    }
   ],
   "source": [
    "ts = time.time()\n",
    "group = matrix.groupby(['date_block_num', 'shop_id', 'item_id']).agg({'item_cnt_month': ['mean']})\n",
    "group.columns = ['date_shop_item_avg_item_cnt']\n",
    "group.reset_index(inplace=True)\n",
    "\n",
    "matrix = pd.merge(matrix, group, on=['date_block_num', 'shop_id', 'item_id'], how='left')\n",
    "matrix['date_shop_item_avg_item_cnt'] = matrix['date_shop_item_avg_item_cnt'].astype(np.float16)\n",
    "matrix = lag_feature(matrix, [1], 'date_shop_item_avg_item_cnt')\n",
    "matrix.drop(['date_shop_item_avg_item_cnt'], axis=1, inplace=True)\n",
    "time.time() - ts"
   ]
  },
  {
   "cell_type": "code",
   "execution_count": 41,
   "metadata": {},
   "outputs": [
    {
     "data": {
      "text/plain": [
       "17.131556034088135"
      ]
     },
     "execution_count": 41,
     "metadata": {},
     "output_type": "execute_result"
    }
   ],
   "source": [
    "ts = time.time()\n",
    "group = matrix.groupby(['date_block_num', 'shop_id', 'subtype_code']).agg({'item_cnt_month': ['mean']})\n",
    "group.columns = ['date_shop_subtype_avg_item_cnt']\n",
    "group.reset_index(inplace=True)\n",
    "\n",
    "matrix = pd.merge(matrix, group, on=['date_block_num', 'shop_id', 'subtype_code'], how='left')\n",
    "matrix['date_shop_subtype_avg_item_cnt'] = matrix['date_shop_subtype_avg_item_cnt'].astype(np.float16)\n",
    "matrix = lag_feature(matrix, [1], 'date_shop_subtype_avg_item_cnt')\n",
    "matrix.drop(['date_shop_subtype_avg_item_cnt'], axis=1, inplace=True)\n",
    "time.time() - ts"
   ]
  },
  {
   "cell_type": "code",
   "execution_count": 42,
   "metadata": {},
   "outputs": [
    {
     "data": {
      "text/plain": [
       "16.589618921279907"
      ]
     },
     "execution_count": 42,
     "metadata": {},
     "output_type": "execute_result"
    }
   ],
   "source": [
    "ts = time.time()\n",
    "group = matrix.groupby(['date_block_num', 'shop_city']).agg({'item_cnt_month': ['mean']})\n",
    "group.columns = [ 'date_city_avg_item_cnt' ]\n",
    "group.reset_index(inplace=True)\n",
    "\n",
    "matrix = pd.merge(matrix, group, on=['date_block_num', 'shop_city'], how='left')\n",
    "matrix['date_city_avg_item_cnt'] = matrix['date_city_avg_item_cnt'].astype(np.float16)\n",
    "matrix = lag_feature(matrix, [1], 'date_city_avg_item_cnt')\n",
    "matrix.drop(['date_city_avg_item_cnt'], axis=1, inplace=True)\n",
    "time.time() - ts"
   ]
  },
  {
   "cell_type": "code",
   "execution_count": 43,
   "metadata": {},
   "outputs": [
    {
     "data": {
      "text/plain": [
       "28.187488079071045"
      ]
     },
     "execution_count": 43,
     "metadata": {},
     "output_type": "execute_result"
    }
   ],
   "source": [
    "ts = time.time()\n",
    "group = matrix.groupby(['date_block_num', 'item_id', 'shop_city']).agg({'item_cnt_month': ['mean']})\n",
    "group.columns = [ 'date_item_city_avg_item_cnt' ]\n",
    "group.reset_index(inplace=True)\n",
    "\n",
    "matrix = pd.merge(matrix, group, on=['date_block_num', 'item_id', 'shop_city'], how='left')\n",
    "matrix['date_item_city_avg_item_cnt'] = matrix['date_item_city_avg_item_cnt'].astype(np.float16)\n",
    "matrix = lag_feature(matrix, [1], 'date_item_city_avg_item_cnt')\n",
    "matrix.drop(['date_item_city_avg_item_cnt'], axis=1, inplace=True)\n",
    "time.time() - ts"
   ]
  },
  {
   "cell_type": "code",
   "execution_count": 44,
   "metadata": {},
   "outputs": [],
   "source": [
    "# ts = time.time()\n",
    "# group = matrix.groupby(['date_block_num', 'type_code']).agg({'item_cnt_month': ['mean']})\n",
    "# group.columns = [ 'date_type_avg_item_cnt' ]\n",
    "# group.reset_index(inplace=True)\n",
    "\n",
    "# matrix = pd.merge(matrix, group, on=['date_block_num', 'type_code'], how='left')\n",
    "# matrix['date_type_avg_item_cnt'] = matrix['date_type_avg_item_cnt'].astype(np.float16)\n",
    "# matrix = lag_feature(matrix, [1], 'date_type_avg_item_cnt')\n",
    "# matrix.drop(['date_type_avg_item_cnt'], axis=1, inplace=True)\n",
    "# time.time() - ts"
   ]
  },
  {
   "cell_type": "code",
   "execution_count": 45,
   "metadata": {},
   "outputs": [],
   "source": [
    "# ts = time.time()\n",
    "# group = matrix.groupby(['date_block_num', 'subtype_code']).agg({'item_cnt_month': ['mean']})\n",
    "# group.columns = [ 'date_subtype_avg_item_cnt' ]\n",
    "# group.reset_index(inplace=True)\n",
    "\n",
    "# matrix = pd.merge(matrix, group, on=['date_block_num', 'subtype_code'], how='left')\n",
    "# matrix['date_subtype_avg_item_cnt'] = matrix['date_subtype_avg_item_cnt'].astype(np.float16)\n",
    "# matrix = lag_feature(matrix, [1], 'date_subtype_avg_item_cnt')\n",
    "# matrix.drop(['date_subtype_avg_item_cnt'], axis=1, inplace=True)\n",
    "# time.time() - ts"
   ]
  },
  {
   "cell_type": "code",
   "execution_count": 46,
   "metadata": {},
   "outputs": [
    {
     "data": {
      "text/plain": [
       "30.647830963134766"
      ]
     },
     "execution_count": 46,
     "metadata": {},
     "output_type": "execute_result"
    }
   ],
   "source": [
    "ts = time.time()\n",
    "group = matrix.groupby(['date_block_num','shop_id' ,'item_id']).agg({'item_cnt_month': ['mean']})\n",
    "group.columns = [ 'date_shop_item_avg_item_cnt' ]\n",
    "group.reset_index(inplace=True)\n",
    "\n",
    "matrix = pd.merge(matrix, group, on=['date_block_num','shop_id' ,'item_id'], how='left')\n",
    "matrix['date_shop_item_avg_item_cnt'] = matrix['date_shop_item_avg_item_cnt'].astype(np.float16)\n",
    "matrix = lag_feature(matrix, [1], 'date_shop_item_avg_item_cnt')\n",
    "matrix.drop(['date_shop_item_avg_item_cnt'], axis=1, inplace=True)\n",
    "time.time() - ts"
   ]
  },
  {
   "cell_type": "markdown",
   "metadata": {},
   "source": [
    "## Trend Features"
   ]
  },
  {
   "cell_type": "code",
   "execution_count": 47,
   "metadata": {},
   "outputs": [
    {
     "data": {
      "text/plain": [
       "337.91621017456055"
      ]
     },
     "execution_count": 47,
     "metadata": {},
     "output_type": "execute_result"
    }
   ],
   "source": [
    "ts = time.time()\n",
    "group = train.groupby(['item_id']).agg({'item_price': ['mean']})\n",
    "group.columns = ['item_avg_item_price']\n",
    "group.reset_index(inplace=True)\n",
    "\n",
    "matrix = pd.merge(matrix, group, on=['item_id'], how='left')\n",
    "matrix['item_avg_item_price'] = matrix['item_avg_item_price'].astype(np.float16)\n",
    "\n",
    "group = train.groupby(['date_block_num','item_id']).agg({'item_price': ['mean']})\n",
    "group.columns = ['date_item_avg_item_price']\n",
    "group.reset_index(inplace=True)\n",
    "\n",
    "matrix = pd.merge(matrix, group, on=['date_block_num','item_id'], how='left')\n",
    "matrix['date_item_avg_item_price'] = matrix['date_item_avg_item_price'].astype(np.float16)\n",
    "\n",
    "lags = [1,2,3]\n",
    "matrix = lag_feature(matrix, lags, 'date_item_avg_item_price')\n",
    "\n",
    "for i in lags:\n",
    "    matrix['delta_price_lag_'+str(i)] = \\\n",
    "        (matrix['date_item_avg_item_price_lag_'+str(i)] - matrix['item_avg_item_price']) / matrix['item_avg_item_price']\n",
    "\n",
    "def select_trend(row):\n",
    "    for i in lags:\n",
    "        if row['delta_price_lag_'+str(i)]:\n",
    "            return row['delta_price_lag_'+str(i)]\n",
    "    return 0\n",
    "    \n",
    "matrix['delta_price_lag'] = matrix.apply(select_trend, axis=1)\n",
    "matrix['delta_price_lag'] = matrix['delta_price_lag'].astype(np.float16)\n",
    "matrix['delta_price_lag'].fillna(0, inplace=True)\n",
    "\n",
    "fetures_to_drop = ['item_avg_item_price', 'date_item_avg_item_price']\n",
    "for i in lags:\n",
    "    fetures_to_drop += ['date_item_avg_item_price_lag_'+str(i)]\n",
    "    fetures_to_drop += ['delta_price_lag_'+str(i)]\n",
    "\n",
    "matrix.drop(fetures_to_drop, axis=1, inplace=True)\n",
    "\n",
    "time.time() - ts"
   ]
  },
  {
   "cell_type": "code",
   "execution_count": 48,
   "metadata": {},
   "outputs": [
    {
     "data": {
      "text/plain": [
       "20.83733630180359"
      ]
     },
     "execution_count": 48,
     "metadata": {},
     "output_type": "execute_result"
    }
   ],
   "source": [
    "ts = time.time()\n",
    "group = train.groupby(['date_block_num','shop_id']).agg({'revenue': ['sum']})\n",
    "group.columns = ['date_shop_revenue']\n",
    "group.reset_index(inplace=True)\n",
    "\n",
    "matrix = pd.merge(matrix, group, on=['date_block_num','shop_id'], how='left')\n",
    "matrix['date_shop_revenue'] = matrix['date_shop_revenue'].astype(np.float32)\n",
    "\n",
    "group = group.groupby(['shop_id']).agg({'date_shop_revenue': ['mean']})\n",
    "group.columns = ['shop_avg_revenue']\n",
    "group.reset_index(inplace=True)\n",
    "\n",
    "matrix = pd.merge(matrix, group, on=['shop_id'], how='left')\n",
    "matrix['shop_avg_revenue'] = matrix['shop_avg_revenue'].astype(np.float32)\n",
    "\n",
    "matrix['delta_revenue'] = (matrix['date_shop_revenue'] - matrix['shop_avg_revenue']) / matrix['shop_avg_revenue']\n",
    "matrix['delta_revenue'] = matrix['delta_revenue'].astype(np.float16)\n",
    "\n",
    "matrix = lag_feature(matrix, [1], 'delta_revenue')\n",
    "\n",
    "matrix.drop(['date_shop_revenue','shop_avg_revenue','delta_revenue'], axis=1, inplace=True)\n",
    "time.time() - ts"
   ]
  },
  {
   "cell_type": "markdown",
   "metadata": {},
   "source": [
    "Add month, and days in a month."
   ]
  },
  {
   "cell_type": "code",
   "execution_count": 49,
   "metadata": {},
   "outputs": [],
   "source": [
    "matrix['month'] = matrix['date_block_num'] % 12\n",
    "\n",
    "days = pd.Series([31,28,31,30,31,30,31,31,30,31,30,31])\n",
    "matrix['days'] = matrix['month'].map(days).astype(np.int8)"
   ]
  },
  {
   "cell_type": "code",
   "execution_count": 50,
   "metadata": {},
   "outputs": [],
   "source": [
    "# ts = time.time()\n",
    "# cache = {}\n",
    "# matrix['item_shop_last_sale'] = -1\n",
    "# matrix['item_shop_last_sale'] = matrix['item_shop_last_sale'].astype(np.int8)\n",
    "# for idx, row in matrix.iterrows():    \n",
    "#     key = str(row.item_id)+' '+str(row.shop_id)\n",
    "#     if key not in cache:\n",
    "#         if row.item_cnt_month!=0:\n",
    "#             cache[key] = row.date_block_num\n",
    "#     else:\n",
    "#         last_date_block_num = cache[key]\n",
    "#         matrix.at[idx, 'item_shop_last_sale'] = row.date_block_num - last_date_block_num\n",
    "#         cache[key] = row.date_block_num         \n",
    "# time.time() - ts"
   ]
  },
  {
   "cell_type": "code",
   "execution_count": 51,
   "metadata": {},
   "outputs": [],
   "source": [
    "# ts = time.time()\n",
    "# cache = {}\n",
    "# matrix['item_last_sale'] = -1\n",
    "# matrix['item_last_sale'] = matrix['item_last_sale'].astype(np.int8)\n",
    "# for idx, row in matrix.iterrows():    \n",
    "#     key = row.item_id\n",
    "#     if key not in cache:\n",
    "#         if row.item_cnt_month!=0:\n",
    "#             cache[key] = row.date_block_num\n",
    "#     else:\n",
    "#         last_date_block_num = cache[key]\n",
    "#         if row.date_block_num>last_date_block_num:\n",
    "#             matrix.at[idx, 'item_last_sale'] = row.date_block_num - last_date_block_num\n",
    "#             cache[key] = row.date_block_num         \n",
    "# time.time() - ts"
   ]
  },
  {
   "cell_type": "code",
   "execution_count": 53,
   "metadata": {},
   "outputs": [
    {
     "data": {
      "text/plain": [
       "2.60782790184021"
      ]
     },
     "execution_count": 53,
     "metadata": {},
     "output_type": "execute_result"
    }
   ],
   "source": [
    "ts = time.time()\n",
    "matrix['item_shop_first_sale'] = matrix['date_block_num'] - matrix.groupby(['item_id','shop_id'])['date_block_num'].transform('min')\n",
    "matrix['item_first_sale'] = matrix['date_block_num'] - matrix.groupby('item_id')['date_block_num'].transform('min')\n",
    "time.time() - ts"
   ]
  },
  {
   "cell_type": "markdown",
   "metadata": {},
   "source": [
    "## Final preparations\n",
    "Because of the using 3 as lag value drop first 3 months. Also drop all the columns with this month calculated values (other words which can not be calcucated for the test set)."
   ]
  },
  {
   "cell_type": "code",
   "execution_count": 54,
   "metadata": {},
   "outputs": [
    {
     "data": {
      "text/plain": [
       "1.0975632667541504"
      ]
     },
     "execution_count": 54,
     "metadata": {},
     "output_type": "execute_result"
    }
   ],
   "source": [
    "ts = time.time()\n",
    "matrix = matrix[matrix.date_block_num > 3]\n",
    "time.time() - ts"
   ]
  },
  {
   "cell_type": "markdown",
   "metadata": {},
   "source": [
    "Producing lags brings a lot of nulls."
   ]
  },
  {
   "cell_type": "code",
   "execution_count": 55,
   "metadata": {},
   "outputs": [
    {
     "data": {
      "text/plain": [
       "1.1983649730682373"
      ]
     },
     "execution_count": 55,
     "metadata": {},
     "output_type": "execute_result"
    }
   ],
   "source": [
    "ts = time.time()\n",
    "def fill_na(df):\n",
    "    for col in df.columns:\n",
    "        if ('_lag_' in col) & (df[col].isnull().any()):\n",
    "            if ('item_cnt' in col):\n",
    "                df[col].fillna(0, inplace=True)         \n",
    "    return df\n",
    "\n",
    "matrix = fill_na(matrix)\n",
    "time.time() - ts"
   ]
  },
  {
   "cell_type": "code",
   "execution_count": 56,
   "metadata": {},
   "outputs": [
    {
     "name": "stdout",
     "output_type": "stream",
     "text": [
      "<class 'pandas.core.frame.DataFrame'>\n",
      "Int64Index: 9558812 entries, 1497465 to 11056276\n",
      "Data columns (total 34 columns):\n",
      "date_block_num                          int8\n",
      "shop_id                                 int8\n",
      "item_id                                 int16\n",
      "item_cnt_month                          float16\n",
      "shop_city                               int8\n",
      "shop_category                           int8\n",
      "item_category_id                        int8\n",
      "name_2                                  int64\n",
      "name_3                                  int64\n",
      "type_code                               int8\n",
      "subtype_code                            int8\n",
      "item_cnt_month_lag_1                    float16\n",
      "item_cnt_month_lag_2                    float16\n",
      "item_cnt_month_lag_3                    float16\n",
      "date_avg_item_cnt_lag_1                 float16\n",
      "date_item_avg_item_cnt_lag_1            float16\n",
      "date_item_avg_item_cnt_lag_2            float16\n",
      "date_item_avg_item_cnt_lag_3            float16\n",
      "date_shop_avg_item_cnt_lag_1            float16\n",
      "date_shop_avg_item_cnt_lag_2            float16\n",
      "date_shop_avg_item_cnt_lag_3            float16\n",
      "date_cat_avg_item_cnt_lag_1             float16\n",
      "date_shop_cat_avg_item_cnt_lag_1        float16\n",
      "date_shop_item_avg_item_cnt_lag_1_x     float16\n",
      "date_shop_subtype_avg_item_cnt_lag_1    float16\n",
      "date_city_avg_item_cnt_lag_1            float16\n",
      "date_item_city_avg_item_cnt_lag_1       float16\n",
      "date_shop_item_avg_item_cnt_lag_1_y     float16\n",
      "delta_price_lag                         float16\n",
      "delta_revenue_lag_1                     float16\n",
      "month                                   int8\n",
      "days                                    int8\n",
      "item_shop_first_sale                    int8\n",
      "item_first_sale                         int8\n",
      "dtypes: float16(20), int16(1), int64(2), int8(11)\n",
      "memory usage: 701.9 MB\n"
     ]
    }
   ],
   "source": [
    "matrix.info()\n",
    "\n",
    "del group\n",
    "del items\n",
    "del shops\n",
    "del cats\n",
    "del train\n",
    "# leave test for submission\n",
    "gc.collect();"
   ]
  },
  {
   "cell_type": "code",
   "execution_count": 58,
   "metadata": {},
   "outputs": [],
   "source": [
    "matrix.to_pickle('data.pkl')\n",
    "\n",
    "del matrix\n",
    "gc.collect();"
   ]
  },
  {
   "cell_type": "markdown",
   "metadata": {},
   "source": [
    "<h3> We recommend creating another notebook to build xgb model because of saving ur time :). <br>\n",
    "\n",
    "## Build XGB Models (* with GPU *) <br>\n",
    "If u want to use 'CPU' mode, eliminate argument tree_method='gpu_hist'. (But we recommend 'GPU' mode)"
   ]
  },
  {
   "cell_type": "code",
   "execution_count": 59,
   "metadata": {},
   "outputs": [],
   "source": [
    "import os\n",
    "import gc\n",
    "import pickle\n",
    "import time\n",
    "import pandas as pd\n",
    "import numpy as np\n",
    "from xgboost import XGBRegressor\n",
    "import matplotlib.pylab as plt\n",
    "from matplotlib.pylab import rcParams\n",
    "rcParams['figure.figsize'] = 12, 4"
   ]
  },
  {
   "cell_type": "code",
   "execution_count": 60,
   "metadata": {},
   "outputs": [
    {
     "name": "stdout",
     "output_type": "stream",
     "text": [
      "34\n"
     ]
    },
    {
     "data": {
      "text/plain": [
       "Index(['date_block_num', 'shop_id', 'item_id', 'item_cnt_month', 'shop_city',\n",
       "       'shop_category', 'item_category_id', 'name_2', 'name_3', 'type_code',\n",
       "       'subtype_code', 'item_cnt_month_lag_1', 'item_cnt_month_lag_2',\n",
       "       'item_cnt_month_lag_3', 'date_avg_item_cnt_lag_1',\n",
       "       'date_item_avg_item_cnt_lag_1', 'date_item_avg_item_cnt_lag_2',\n",
       "       'date_item_avg_item_cnt_lag_3', 'date_shop_avg_item_cnt_lag_1',\n",
       "       'date_shop_avg_item_cnt_lag_2', 'date_shop_avg_item_cnt_lag_3',\n",
       "       'date_cat_avg_item_cnt_lag_1', 'date_shop_cat_avg_item_cnt_lag_1',\n",
       "       'date_shop_item_avg_item_cnt_lag_1_x',\n",
       "       'date_shop_subtype_avg_item_cnt_lag_1', 'date_city_avg_item_cnt_lag_1',\n",
       "       'date_item_city_avg_item_cnt_lag_1',\n",
       "       'date_shop_item_avg_item_cnt_lag_1_y', 'delta_price_lag',\n",
       "       'delta_revenue_lag_1', 'month', 'days', 'item_shop_first_sale',\n",
       "       'item_first_sale'],\n",
       "      dtype='object')"
      ]
     },
     "execution_count": 60,
     "metadata": {},
     "output_type": "execute_result"
    }
   ],
   "source": [
    "data = pd.read_pickle('data.pkl')\n",
    "test  = pd.read_csv('test.csv').set_index('ID')\n",
    "\n",
    "print(len(data.columns))\n",
    "data.columns"
   ]
  },
  {
   "cell_type": "markdown",
   "metadata": {},
   "source": [
    "Select best features"
   ]
  },
  {
   "cell_type": "code",
   "execution_count": 62,
   "metadata": {},
   "outputs": [
    {
     "data": {
      "text/plain": [
       "32"
      ]
     },
     "execution_count": 62,
     "metadata": {},
     "output_type": "execute_result"
    }
   ],
   "source": [
    "data = data[[\n",
    "   'date_block_num', 'shop_id', 'item_id', 'item_cnt_month', 'shop_city',\n",
    "       'shop_category', 'item_category_id', 'name_2', 'name_3', 'type_code',\n",
    "       'subtype_code', 'item_cnt_month_lag_1', 'item_cnt_month_lag_2',\n",
    "       'item_cnt_month_lag_3', 'date_avg_item_cnt_lag_1',\n",
    "       'date_item_avg_item_cnt_lag_1', 'date_item_avg_item_cnt_lag_2',\n",
    "       'date_item_avg_item_cnt_lag_3', 'date_shop_avg_item_cnt_lag_1',\n",
    "       'date_shop_avg_item_cnt_lag_2', 'date_shop_avg_item_cnt_lag_3',\n",
    "       'date_cat_avg_item_cnt_lag_1', 'date_shop_cat_avg_item_cnt_lag_1',\n",
    "       'date_shop_subtype_avg_item_cnt_lag_1', 'date_city_avg_item_cnt_lag_1',\n",
    "       'date_item_city_avg_item_cnt_lag_1', \n",
    "#     'date_type_avg_item_cnt_lag_1',\n",
    "#        'date_subtype_avg_item_cnt_lag_1', \n",
    "#     'date_shop_item_avg_item_cnt_lag_1',\n",
    "    'delta_price_lag',\n",
    "       'delta_revenue_lag_1', 'month', 'days', \n",
    "#     'item_shop_last_sale',\n",
    "#        'item_last_sale', \n",
    "    'item_shop_first_sale', \n",
    "    'item_first_sale'\n",
    "]]\n",
    "\n",
    "len(data.columns)"
   ]
  },
  {
   "cell_type": "code",
   "execution_count": 63,
   "metadata": {},
   "outputs": [],
   "source": [
    "X_train = data[data.date_block_num < 33].drop(['item_cnt_month'], axis=1)\n",
    "Y_train = data[data.date_block_num < 33]['item_cnt_month']\n",
    "X_valid = data[data.date_block_num == 33].drop(['item_cnt_month'], axis=1)\n",
    "Y_valid = data[data.date_block_num == 33]['item_cnt_month']\n",
    "X_test = data[data.date_block_num == 34].drop(['item_cnt_month'], axis=1)"
   ]
  },
  {
   "cell_type": "code",
   "execution_count": 64,
   "metadata": {},
   "outputs": [],
   "source": [
    "del data\n",
    "gc.collect();"
   ]
  },
  {
   "cell_type": "code",
   "execution_count": null,
   "metadata": {},
   "outputs": [
    {
     "name": "stdout",
     "output_type": "stream",
     "text": [
      "[16:24:59] WARNING: src/objective/regression_obj.cu:152: reg:linear is now deprecated in favor of reg:squarederror.\n",
      "[16:24:59] WARNING: src/learner.cc:686: Tree method is automatically selected to be 'approx' for faster speed. To use old behavior (exact greedy algorithm on single machine), set tree_method to 'exact'.\n",
      "[0]\tvalidation_0-rmse:1.12967\tvalidation_1-rmse:1.11815\n",
      "Multiple eval metrics have been passed: 'validation_1-rmse' will be used for early stopping.\n",
      "\n",
      "Will train until validation_1-rmse hasn't improved in 20 rounds.\n",
      "[1]\tvalidation_0-rmse:1.08775\tvalidation_1-rmse:1.07988\n",
      "[2]\tvalidation_0-rmse:1.05326\tvalidation_1-rmse:1.04846\n",
      "[3]\tvalidation_0-rmse:1.01713\tvalidation_1-rmse:1.02012\n",
      "[4]\tvalidation_0-rmse:0.989284\tvalidation_1-rmse:0.999023\n",
      "[5]\tvalidation_0-rmse:0.966852\tvalidation_1-rmse:0.981679\n",
      "[6]\tvalidation_0-rmse:0.945749\tvalidation_1-rmse:0.968136\n",
      "[7]\tvalidation_0-rmse:0.92761\tvalidation_1-rmse:0.95656\n",
      "[8]\tvalidation_0-rmse:0.912955\tvalidation_1-rmse:0.948446\n",
      "[9]\tvalidation_0-rmse:0.899604\tvalidation_1-rmse:0.940635\n",
      "[10]\tvalidation_0-rmse:0.887548\tvalidation_1-rmse:0.934095\n",
      "[11]\tvalidation_0-rmse:0.877703\tvalidation_1-rmse:0.927129\n",
      "[12]\tvalidation_0-rmse:0.869555\tvalidation_1-rmse:0.922631\n",
      "[13]\tvalidation_0-rmse:0.863035\tvalidation_1-rmse:0.920259\n",
      "[14]\tvalidation_0-rmse:0.857236\tvalidation_1-rmse:0.917514\n",
      "[15]\tvalidation_0-rmse:0.850707\tvalidation_1-rmse:0.914239\n",
      "[16]\tvalidation_0-rmse:0.846155\tvalidation_1-rmse:0.912396\n",
      "[17]\tvalidation_0-rmse:0.842118\tvalidation_1-rmse:0.911446\n",
      "[18]\tvalidation_0-rmse:0.837701\tvalidation_1-rmse:0.909993\n",
      "[19]\tvalidation_0-rmse:0.833755\tvalidation_1-rmse:0.908531\n",
      "[20]\tvalidation_0-rmse:0.830711\tvalidation_1-rmse:0.90765\n",
      "[21]\tvalidation_0-rmse:0.827866\tvalidation_1-rmse:0.907091\n",
      "[22]\tvalidation_0-rmse:0.824975\tvalidation_1-rmse:0.907758\n",
      "[23]\tvalidation_0-rmse:0.821726\tvalidation_1-rmse:0.907366\n",
      "[24]\tvalidation_0-rmse:0.819158\tvalidation_1-rmse:0.908611\n",
      "[25]\tvalidation_0-rmse:0.816879\tvalidation_1-rmse:0.907905\n",
      "[26]\tvalidation_0-rmse:0.814837\tvalidation_1-rmse:0.907906\n",
      "[27]\tvalidation_0-rmse:0.812546\tvalidation_1-rmse:0.907896\n",
      "[28]\tvalidation_0-rmse:0.810353\tvalidation_1-rmse:0.907809\n",
      "[29]\tvalidation_0-rmse:0.808419\tvalidation_1-rmse:0.908656\n",
      "[30]\tvalidation_0-rmse:0.806897\tvalidation_1-rmse:0.90889\n",
      "[31]\tvalidation_0-rmse:0.805568\tvalidation_1-rmse:0.908604\n"
     ]
    }
   ],
   "source": [
    "ts = time.time()\n",
    "\n",
    "model = XGBRegressor(\n",
    "    max_depth=10,\n",
    "    n_estimators=1000,\n",
    "    min_child_weight=0.5, \n",
    "    colsample_bytree=0.8, \n",
    "    subsample=0.8, \n",
    "    eta=0.1,\n",
    "    seed=42)\n",
    "\n",
    "model.fit(\n",
    "    X_train, \n",
    "    Y_train, \n",
    "    eval_metric=\"rmse\", \n",
    "    eval_set=[(X_train, Y_train), (X_valid, Y_valid)], \n",
    "    verbose=True, \n",
    "    early_stopping_rounds = 20)\n",
    "\n",
    "time.time() - ts"
   ]
  },
  {
   "cell_type": "code",
   "execution_count": null,
   "metadata": {},
   "outputs": [],
   "source": [
    "Y_pred = model.predict(X_valid).clip(0, 20)\n",
    "Y_test = model.predict(X_test).clip(0, 20)\n",
    "\n",
    "submission = pd.DataFrame({\n",
    "    \"ID\": test.index, \n",
    "    \"item_cnt_month\": Y_test\n",
    "})\n",
    "submission.to_csv('submission.csv', index=False)\n",
    "\n",
    "# save predictions for an ensemble\n",
    "pickle.dump(Y_pred, open('xgb_train.pickle', 'wb'))\n",
    "pickle.dump(Y_test, open('xgb_test.pickle', 'wb'))"
   ]
  },
  {
   "cell_type": "code",
   "execution_count": null,
   "metadata": {},
   "outputs": [],
   "source": [
    "from xgboost import plot_importance\n",
    "\n",
    "def plot_features(booster, figsize):    \n",
    "    fig, ax = plt.subplots(1,1,figsize=figsize)\n",
    "    return plot_importance(booster=booster, ax=ax)\n",
    "\n",
    "plot_features(model, (10,14))"
   ]
  },
  {
   "cell_type": "code",
   "execution_count": null,
   "metadata": {},
   "outputs": [],
   "source": [
    "!kaggle competitions submit competitive-data-science-predict-future-sales -f submission.csv -m \"second submission\""
   ]
  },
  {
   "cell_type": "code",
   "execution_count": null,
   "metadata": {},
   "outputs": [],
   "source": []
  }
 ],
 "metadata": {
  "kernelspec": {
   "display_name": "Python 3",
   "language": "python",
   "name": "python3"
  },
  "language_info": {
   "codemirror_mode": {
    "name": "ipython",
    "version": 3
   },
   "file_extension": ".py",
   "mimetype": "text/x-python",
   "name": "python",
   "nbconvert_exporter": "python",
   "pygments_lexer": "ipython3",
   "version": "3.7.5"
  }
 },
 "nbformat": 4,
 "nbformat_minor": 4
}
